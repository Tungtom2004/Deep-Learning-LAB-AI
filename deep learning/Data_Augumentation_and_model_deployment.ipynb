{
  "nbformat": 4,
  "nbformat_minor": 0,
  "metadata": {
    "colab": {
      "provenance": [],
      "gpuType": "T4"
    },
    "kernelspec": {
      "name": "python3",
      "display_name": "Python 3"
    },
    "language_info": {
      "name": "python"
    }
  },
  "cells": [
    {
      "cell_type": "code",
      "execution_count": null,
      "metadata": {
        "colab": {
          "base_uri": "https://localhost:8080/",
          "height": 73
        },
        "id": "YM68tXylnjSO",
        "outputId": "0e34234f-2c16-4e84-e8c9-e3329470205d"
      },
      "outputs": [
        {
          "output_type": "display_data",
          "data": {
            "text/plain": [
              "<IPython.core.display.HTML object>"
            ],
            "text/html": [
              "\n",
              "     <input type=\"file\" id=\"files-ba200b37-e5ce-4e6b-9738-bb354311d74d\" name=\"files[]\" multiple disabled\n",
              "        style=\"border:none\" />\n",
              "     <output id=\"result-ba200b37-e5ce-4e6b-9738-bb354311d74d\">\n",
              "      Upload widget is only available when the cell has been executed in the\n",
              "      current browser session. Please rerun this cell to enable.\n",
              "      </output>\n",
              "      <script>// Copyright 2017 Google LLC\n",
              "//\n",
              "// Licensed under the Apache License, Version 2.0 (the \"License\");\n",
              "// you may not use this file except in compliance with the License.\n",
              "// You may obtain a copy of the License at\n",
              "//\n",
              "//      http://www.apache.org/licenses/LICENSE-2.0\n",
              "//\n",
              "// Unless required by applicable law or agreed to in writing, software\n",
              "// distributed under the License is distributed on an \"AS IS\" BASIS,\n",
              "// WITHOUT WARRANTIES OR CONDITIONS OF ANY KIND, either express or implied.\n",
              "// See the License for the specific language governing permissions and\n",
              "// limitations under the License.\n",
              "\n",
              "/**\n",
              " * @fileoverview Helpers for google.colab Python module.\n",
              " */\n",
              "(function(scope) {\n",
              "function span(text, styleAttributes = {}) {\n",
              "  const element = document.createElement('span');\n",
              "  element.textContent = text;\n",
              "  for (const key of Object.keys(styleAttributes)) {\n",
              "    element.style[key] = styleAttributes[key];\n",
              "  }\n",
              "  return element;\n",
              "}\n",
              "\n",
              "// Max number of bytes which will be uploaded at a time.\n",
              "const MAX_PAYLOAD_SIZE = 100 * 1024;\n",
              "\n",
              "function _uploadFiles(inputId, outputId) {\n",
              "  const steps = uploadFilesStep(inputId, outputId);\n",
              "  const outputElement = document.getElementById(outputId);\n",
              "  // Cache steps on the outputElement to make it available for the next call\n",
              "  // to uploadFilesContinue from Python.\n",
              "  outputElement.steps = steps;\n",
              "\n",
              "  return _uploadFilesContinue(outputId);\n",
              "}\n",
              "\n",
              "// This is roughly an async generator (not supported in the browser yet),\n",
              "// where there are multiple asynchronous steps and the Python side is going\n",
              "// to poll for completion of each step.\n",
              "// This uses a Promise to block the python side on completion of each step,\n",
              "// then passes the result of the previous step as the input to the next step.\n",
              "function _uploadFilesContinue(outputId) {\n",
              "  const outputElement = document.getElementById(outputId);\n",
              "  const steps = outputElement.steps;\n",
              "\n",
              "  const next = steps.next(outputElement.lastPromiseValue);\n",
              "  return Promise.resolve(next.value.promise).then((value) => {\n",
              "    // Cache the last promise value to make it available to the next\n",
              "    // step of the generator.\n",
              "    outputElement.lastPromiseValue = value;\n",
              "    return next.value.response;\n",
              "  });\n",
              "}\n",
              "\n",
              "/**\n",
              " * Generator function which is called between each async step of the upload\n",
              " * process.\n",
              " * @param {string} inputId Element ID of the input file picker element.\n",
              " * @param {string} outputId Element ID of the output display.\n",
              " * @return {!Iterable<!Object>} Iterable of next steps.\n",
              " */\n",
              "function* uploadFilesStep(inputId, outputId) {\n",
              "  const inputElement = document.getElementById(inputId);\n",
              "  inputElement.disabled = false;\n",
              "\n",
              "  const outputElement = document.getElementById(outputId);\n",
              "  outputElement.innerHTML = '';\n",
              "\n",
              "  const pickedPromise = new Promise((resolve) => {\n",
              "    inputElement.addEventListener('change', (e) => {\n",
              "      resolve(e.target.files);\n",
              "    });\n",
              "  });\n",
              "\n",
              "  const cancel = document.createElement('button');\n",
              "  inputElement.parentElement.appendChild(cancel);\n",
              "  cancel.textContent = 'Cancel upload';\n",
              "  const cancelPromise = new Promise((resolve) => {\n",
              "    cancel.onclick = () => {\n",
              "      resolve(null);\n",
              "    };\n",
              "  });\n",
              "\n",
              "  // Wait for the user to pick the files.\n",
              "  const files = yield {\n",
              "    promise: Promise.race([pickedPromise, cancelPromise]),\n",
              "    response: {\n",
              "      action: 'starting',\n",
              "    }\n",
              "  };\n",
              "\n",
              "  cancel.remove();\n",
              "\n",
              "  // Disable the input element since further picks are not allowed.\n",
              "  inputElement.disabled = true;\n",
              "\n",
              "  if (!files) {\n",
              "    return {\n",
              "      response: {\n",
              "        action: 'complete',\n",
              "      }\n",
              "    };\n",
              "  }\n",
              "\n",
              "  for (const file of files) {\n",
              "    const li = document.createElement('li');\n",
              "    li.append(span(file.name, {fontWeight: 'bold'}));\n",
              "    li.append(span(\n",
              "        `(${file.type || 'n/a'}) - ${file.size} bytes, ` +\n",
              "        `last modified: ${\n",
              "            file.lastModifiedDate ? file.lastModifiedDate.toLocaleDateString() :\n",
              "                                    'n/a'} - `));\n",
              "    const percent = span('0% done');\n",
              "    li.appendChild(percent);\n",
              "\n",
              "    outputElement.appendChild(li);\n",
              "\n",
              "    const fileDataPromise = new Promise((resolve) => {\n",
              "      const reader = new FileReader();\n",
              "      reader.onload = (e) => {\n",
              "        resolve(e.target.result);\n",
              "      };\n",
              "      reader.readAsArrayBuffer(file);\n",
              "    });\n",
              "    // Wait for the data to be ready.\n",
              "    let fileData = yield {\n",
              "      promise: fileDataPromise,\n",
              "      response: {\n",
              "        action: 'continue',\n",
              "      }\n",
              "    };\n",
              "\n",
              "    // Use a chunked sending to avoid message size limits. See b/62115660.\n",
              "    let position = 0;\n",
              "    do {\n",
              "      const length = Math.min(fileData.byteLength - position, MAX_PAYLOAD_SIZE);\n",
              "      const chunk = new Uint8Array(fileData, position, length);\n",
              "      position += length;\n",
              "\n",
              "      const base64 = btoa(String.fromCharCode.apply(null, chunk));\n",
              "      yield {\n",
              "        response: {\n",
              "          action: 'append',\n",
              "          file: file.name,\n",
              "          data: base64,\n",
              "        },\n",
              "      };\n",
              "\n",
              "      let percentDone = fileData.byteLength === 0 ?\n",
              "          100 :\n",
              "          Math.round((position / fileData.byteLength) * 100);\n",
              "      percent.textContent = `${percentDone}% done`;\n",
              "\n",
              "    } while (position < fileData.byteLength);\n",
              "  }\n",
              "\n",
              "  // All done.\n",
              "  yield {\n",
              "    response: {\n",
              "      action: 'complete',\n",
              "    }\n",
              "  };\n",
              "}\n",
              "\n",
              "scope.google = scope.google || {};\n",
              "scope.google.colab = scope.google.colab || {};\n",
              "scope.google.colab._files = {\n",
              "  _uploadFiles,\n",
              "  _uploadFilesContinue,\n",
              "};\n",
              "})(self);\n",
              "</script> "
            ]
          },
          "metadata": {}
        },
        {
          "output_type": "stream",
          "name": "stdout",
          "text": [
            "Saving utils.py to utils.py\n"
          ]
        }
      ],
      "source": [
        "from google.colab import files\n",
        "uploaded = files.upload()\n",
        "import utils"
      ]
    },
    {
      "cell_type": "code",
      "source": [
        "!cat utils.py"
      ],
      "metadata": {
        "colab": {
          "base_uri": "https://localhost:8080/"
        },
        "id": "CKG-hef60LOc",
        "outputId": "d42ce887-cc8d-443c-cf51-88bb75fd2394"
      },
      "execution_count": null,
      "outputs": [
        {
          "output_type": "stream",
          "name": "stdout",
          "text": [
            "import torch\r\n",
            "import torch.nn as nn\r\n",
            "\r\n",
            "class MyConvBlock(nn.Module):\r\n",
            "    def __init__(self, in_ch, out_ch, dropout_p):\r\n",
            "        kernel_size = 3\r\n",
            "        super().__init__()\r\n",
            "\r\n",
            "        self.model = nn.Sequential(\r\n",
            "            nn.Conv2d(in_ch, out_ch, kernel_size, stride=1, padding=1),\r\n",
            "            nn.BatchNorm2d(out_ch),\r\n",
            "            nn.ReLU(),\r\n",
            "            nn.Dropout(dropout_p),\r\n",
            "            nn.MaxPool2d(2, stride=2)\r\n",
            "        )\r\n",
            "\r\n",
            "    def forward(self, x):\r\n",
            "        return self.model(x)\r\n",
            "\r\n",
            "def get_batch_accuracy(output, y, N):\r\n",
            "    pred = output.argmax(dim=1, keepdim=True)\r\n",
            "    correct = pred.eq(y.view_as(pred)).sum().item()\r\n",
            "    return correct / N\r\n",
            "\r\n",
            "\r\n",
            "def train(model, train_loader, train_N, random_trans, optimizer, loss_function):\r\n",
            "    loss = 0\r\n",
            "    accuracy = 0\r\n",
            "\r\n",
            "    model.train()\r\n",
            "    for x, y in train_loader:\r\n",
            "        output = model(random_trans(x))\r\n",
            "        optimizer.zero_grad()\r\n",
            "        batch_loss = loss_function(output, y)\r\n",
            "        batch_loss.backward()\r\n",
            "        optimizer.step()\r\n",
            "\r\n",
            "        loss += batch_loss.item()\r\n",
            "        accuracy += get_batch_accuracy(output, y, train_N)\r\n",
            "    print('Train - Loss: {:.4f} Accuracy: {:.4f}'.format(loss, accuracy))\r\n",
            "\r\n",
            "def validate(model, valid_loader, valid_N, loss_function):\r\n",
            "    loss = 0\r\n",
            "    accuracy = 0\r\n",
            "\r\n",
            "    model.eval()\r\n",
            "    with torch.no_grad():\r\n",
            "        for x, y in valid_loader:\r\n",
            "            output = model(x)\r\n",
            "\r\n",
            "            loss += loss_function(output, y).item()\r\n",
            "            accuracy += get_batch_accuracy(output, y, valid_N)\r\n",
            "    print('Valid - Loss: {:.4f} Accuracy: {:.4f}'.format(loss, accuracy))"
          ]
        }
      ]
    },
    {
      "cell_type": "code",
      "source": [
        "import sys\n",
        "sys.path.append('/content/drive/MyDrive/LAB AI/Jupyter Notebook/utils.py')\n",
        "import utils\n"
      ],
      "metadata": {
        "id": "Ci596KJQ0kLY"
      },
      "execution_count": null,
      "outputs": []
    },
    {
      "cell_type": "code",
      "source": [
        "!ls -l | grep utils\n"
      ],
      "metadata": {
        "colab": {
          "base_uri": "https://localhost:8080/"
        },
        "id": "_nenE_Dh0u8L",
        "outputId": "a23edae3-3834-4c56-ff6b-5e07f0433aac"
      },
      "execution_count": null,
      "outputs": [
        {
          "output_type": "stream",
          "name": "stdout",
          "text": [
            "-rw-r--r-- 1 root root 1574 Jan  7 09:10 utils.py\n"
          ]
        }
      ]
    },
    {
      "cell_type": "code",
      "source": [
        "from importlib import reload\n",
        "import utils\n",
        "reload(utils)\n"
      ],
      "metadata": {
        "colab": {
          "base_uri": "https://localhost:8080/"
        },
        "id": "8-CzcyAN0Sfa",
        "outputId": "ee5bf579-d528-4c99-90b8-ad53b4d60e51"
      },
      "execution_count": null,
      "outputs": [
        {
          "output_type": "execute_result",
          "data": {
            "text/plain": [
              "<module 'utils' from '/content/utils.py'>"
            ]
          },
          "metadata": {},
          "execution_count": 5
        }
      ]
    },
    {
      "cell_type": "code",
      "source": [
        "!rm -rf __pycache__\n"
      ],
      "metadata": {
        "id": "prJQC6UC1MJt"
      },
      "execution_count": null,
      "outputs": []
    },
    {
      "cell_type": "code",
      "source": [
        "import utils\n",
        "from importlib import reload\n",
        "reload(utils)\n"
      ],
      "metadata": {
        "colab": {
          "base_uri": "https://localhost:8080/"
        },
        "id": "AC6Oc1HJ1Qls",
        "outputId": "1fa3d7cd-a9a8-4f3c-ffa6-72e9f816bae3"
      },
      "execution_count": null,
      "outputs": [
        {
          "output_type": "execute_result",
          "data": {
            "text/plain": [
              "<module 'utils' from '/content/utils.py'>"
            ]
          },
          "metadata": {},
          "execution_count": 7
        }
      ]
    },
    {
      "cell_type": "code",
      "source": [
        "import utils\n",
        "utils.get_batch_accuracy\n"
      ],
      "metadata": {
        "colab": {
          "base_uri": "https://localhost:8080/",
          "height": 121
        },
        "id": "8nsyU0LS1Sba",
        "outputId": "14abdeb1-f210-4ae0-f6ad-48e63208eec9"
      },
      "execution_count": null,
      "outputs": [
        {
          "output_type": "execute_result",
          "data": {
            "text/plain": [
              "<function utils.get_batch_accuracy(output, y, N)>"
            ],
            "text/html": [
              "<div style=\"max-width:800px; border: 1px solid var(--colab-border-color);\"><style>\n",
              "      pre.function-repr-contents {\n",
              "        overflow-x: auto;\n",
              "        padding: 8px 12px;\n",
              "        max-height: 500px;\n",
              "      }\n",
              "\n",
              "      pre.function-repr-contents.function-repr-contents-collapsed {\n",
              "        cursor: pointer;\n",
              "        max-height: 100px;\n",
              "      }\n",
              "    </style>\n",
              "    <pre style=\"white-space: initial; background:\n",
              "         var(--colab-secondary-surface-color); padding: 8px 12px;\n",
              "         border-bottom: 1px solid var(--colab-border-color);\"><b>utils.get_batch_accuracy</b><br/>def get_batch_accuracy(output, y, N)</pre><pre class=\"function-repr-contents function-repr-contents-collapsed\" style=\"\"><a class=\"filepath\" style=\"display:none\" href=\"#\">/content/utils.py</a>&lt;no docstring&gt;</pre>\n",
              "      <script>\n",
              "      if (google.colab.kernel.accessAllowed && google.colab.files && google.colab.files.view) {\n",
              "        for (const element of document.querySelectorAll('.filepath')) {\n",
              "          element.style.display = 'block'\n",
              "          element.onclick = (event) => {\n",
              "            event.preventDefault();\n",
              "            event.stopPropagation();\n",
              "            google.colab.files.view(element.textContent, 20);\n",
              "          };\n",
              "        }\n",
              "      }\n",
              "      for (const element of document.querySelectorAll('.function-repr-contents')) {\n",
              "        element.onclick = (event) => {\n",
              "          event.preventDefault();\n",
              "          event.stopPropagation();\n",
              "          element.classList.toggle('function-repr-contents-collapsed');\n",
              "        };\n",
              "      }\n",
              "      </script>\n",
              "      </div>"
            ]
          },
          "metadata": {},
          "execution_count": 8
        }
      ]
    },
    {
      "cell_type": "code",
      "source": [
        "import torch.nn as nn\n",
        "import pandas as pd\n",
        "import torch\n",
        "from torch.utils.data import DataLoader, Dataset\n",
        "import numpy as np\n",
        "from torch.optim import Adam\n",
        "import matplotlib.pyplot as plt\n",
        "import torchvision.transforms.v2 as transforms\n",
        "import torchvision.io as tv_io\n",
        "import torchvision.transforms.functional as F\n",
        "device = torch.device(\"cuda\" if torch.cuda.is_available() else \"cpu\")\n",
        "import utils\n",
        "torch.cuda.is_available()"
      ],
      "metadata": {
        "colab": {
          "base_uri": "https://localhost:8080/"
        },
        "id": "5tbHSZgR3RJF",
        "outputId": "170c6862-5ebe-40c5-bfac-f5f182248ca2"
      },
      "execution_count": null,
      "outputs": [
        {
          "output_type": "execute_result",
          "data": {
            "text/plain": [
              "True"
            ]
          },
          "metadata": {},
          "execution_count": 54
        }
      ]
    },
    {
      "cell_type": "code",
      "source": [
        "IMG_HEIGHT = 28\n",
        "IMG_WIDTH = 28\n",
        "IMG_CHS = 1\n",
        "n_classes = 24\n",
        "\n",
        "train_df = pd.read_csv(\"/content/drive/MyDrive/LAB AI/Jupyter Notebook/mnist_train.csv.zip\")\n",
        "valid_df = pd.read_csv(\"/content/drive/MyDrive/LAB AI/Jupyter Notebook/mnist_test.csv.zip\")\n"
      ],
      "metadata": {
        "id": "gNNRS0Vq3T0i"
      },
      "execution_count": null,
      "outputs": []
    },
    {
      "cell_type": "code",
      "source": [
        "train_df.head()"
      ],
      "metadata": {
        "colab": {
          "base_uri": "https://localhost:8080/",
          "height": 235
        },
        "id": "OHq1P5ar37hv",
        "outputId": "4acc6994-eb02-419d-8b94-8e578820786e"
      },
      "execution_count": null,
      "outputs": [
        {
          "output_type": "execute_result",
          "data": {
            "text/plain": [
              "   label  1x1  1x2  1x3  1x4  1x5  1x6  1x7  1x8  1x9  ...  28x19  28x20  \\\n",
              "0      5    0    0    0    0    0    0    0    0    0  ...      0      0   \n",
              "1      0    0    0    0    0    0    0    0    0    0  ...      0      0   \n",
              "2      4    0    0    0    0    0    0    0    0    0  ...      0      0   \n",
              "3      1    0    0    0    0    0    0    0    0    0  ...      0      0   \n",
              "4      9    0    0    0    0    0    0    0    0    0  ...      0      0   \n",
              "\n",
              "   28x21  28x22  28x23  28x24  28x25  28x26  28x27  28x28  \n",
              "0      0      0      0      0      0      0      0      0  \n",
              "1      0      0      0      0      0      0      0      0  \n",
              "2      0      0      0      0      0      0      0      0  \n",
              "3      0      0      0      0      0      0      0      0  \n",
              "4      0      0      0      0      0      0      0      0  \n",
              "\n",
              "[5 rows x 785 columns]"
            ],
            "text/html": [
              "\n",
              "  <div id=\"df-d4e69233-596f-4055-b6a9-9d689e3cfb06\" class=\"colab-df-container\">\n",
              "    <div>\n",
              "<style scoped>\n",
              "    .dataframe tbody tr th:only-of-type {\n",
              "        vertical-align: middle;\n",
              "    }\n",
              "\n",
              "    .dataframe tbody tr th {\n",
              "        vertical-align: top;\n",
              "    }\n",
              "\n",
              "    .dataframe thead th {\n",
              "        text-align: right;\n",
              "    }\n",
              "</style>\n",
              "<table border=\"1\" class=\"dataframe\">\n",
              "  <thead>\n",
              "    <tr style=\"text-align: right;\">\n",
              "      <th></th>\n",
              "      <th>label</th>\n",
              "      <th>1x1</th>\n",
              "      <th>1x2</th>\n",
              "      <th>1x3</th>\n",
              "      <th>1x4</th>\n",
              "      <th>1x5</th>\n",
              "      <th>1x6</th>\n",
              "      <th>1x7</th>\n",
              "      <th>1x8</th>\n",
              "      <th>1x9</th>\n",
              "      <th>...</th>\n",
              "      <th>28x19</th>\n",
              "      <th>28x20</th>\n",
              "      <th>28x21</th>\n",
              "      <th>28x22</th>\n",
              "      <th>28x23</th>\n",
              "      <th>28x24</th>\n",
              "      <th>28x25</th>\n",
              "      <th>28x26</th>\n",
              "      <th>28x27</th>\n",
              "      <th>28x28</th>\n",
              "    </tr>\n",
              "  </thead>\n",
              "  <tbody>\n",
              "    <tr>\n",
              "      <th>0</th>\n",
              "      <td>5</td>\n",
              "      <td>0</td>\n",
              "      <td>0</td>\n",
              "      <td>0</td>\n",
              "      <td>0</td>\n",
              "      <td>0</td>\n",
              "      <td>0</td>\n",
              "      <td>0</td>\n",
              "      <td>0</td>\n",
              "      <td>0</td>\n",
              "      <td>...</td>\n",
              "      <td>0</td>\n",
              "      <td>0</td>\n",
              "      <td>0</td>\n",
              "      <td>0</td>\n",
              "      <td>0</td>\n",
              "      <td>0</td>\n",
              "      <td>0</td>\n",
              "      <td>0</td>\n",
              "      <td>0</td>\n",
              "      <td>0</td>\n",
              "    </tr>\n",
              "    <tr>\n",
              "      <th>1</th>\n",
              "      <td>0</td>\n",
              "      <td>0</td>\n",
              "      <td>0</td>\n",
              "      <td>0</td>\n",
              "      <td>0</td>\n",
              "      <td>0</td>\n",
              "      <td>0</td>\n",
              "      <td>0</td>\n",
              "      <td>0</td>\n",
              "      <td>0</td>\n",
              "      <td>...</td>\n",
              "      <td>0</td>\n",
              "      <td>0</td>\n",
              "      <td>0</td>\n",
              "      <td>0</td>\n",
              "      <td>0</td>\n",
              "      <td>0</td>\n",
              "      <td>0</td>\n",
              "      <td>0</td>\n",
              "      <td>0</td>\n",
              "      <td>0</td>\n",
              "    </tr>\n",
              "    <tr>\n",
              "      <th>2</th>\n",
              "      <td>4</td>\n",
              "      <td>0</td>\n",
              "      <td>0</td>\n",
              "      <td>0</td>\n",
              "      <td>0</td>\n",
              "      <td>0</td>\n",
              "      <td>0</td>\n",
              "      <td>0</td>\n",
              "      <td>0</td>\n",
              "      <td>0</td>\n",
              "      <td>...</td>\n",
              "      <td>0</td>\n",
              "      <td>0</td>\n",
              "      <td>0</td>\n",
              "      <td>0</td>\n",
              "      <td>0</td>\n",
              "      <td>0</td>\n",
              "      <td>0</td>\n",
              "      <td>0</td>\n",
              "      <td>0</td>\n",
              "      <td>0</td>\n",
              "    </tr>\n",
              "    <tr>\n",
              "      <th>3</th>\n",
              "      <td>1</td>\n",
              "      <td>0</td>\n",
              "      <td>0</td>\n",
              "      <td>0</td>\n",
              "      <td>0</td>\n",
              "      <td>0</td>\n",
              "      <td>0</td>\n",
              "      <td>0</td>\n",
              "      <td>0</td>\n",
              "      <td>0</td>\n",
              "      <td>...</td>\n",
              "      <td>0</td>\n",
              "      <td>0</td>\n",
              "      <td>0</td>\n",
              "      <td>0</td>\n",
              "      <td>0</td>\n",
              "      <td>0</td>\n",
              "      <td>0</td>\n",
              "      <td>0</td>\n",
              "      <td>0</td>\n",
              "      <td>0</td>\n",
              "    </tr>\n",
              "    <tr>\n",
              "      <th>4</th>\n",
              "      <td>9</td>\n",
              "      <td>0</td>\n",
              "      <td>0</td>\n",
              "      <td>0</td>\n",
              "      <td>0</td>\n",
              "      <td>0</td>\n",
              "      <td>0</td>\n",
              "      <td>0</td>\n",
              "      <td>0</td>\n",
              "      <td>0</td>\n",
              "      <td>...</td>\n",
              "      <td>0</td>\n",
              "      <td>0</td>\n",
              "      <td>0</td>\n",
              "      <td>0</td>\n",
              "      <td>0</td>\n",
              "      <td>0</td>\n",
              "      <td>0</td>\n",
              "      <td>0</td>\n",
              "      <td>0</td>\n",
              "      <td>0</td>\n",
              "    </tr>\n",
              "  </tbody>\n",
              "</table>\n",
              "<p>5 rows × 785 columns</p>\n",
              "</div>\n",
              "    <div class=\"colab-df-buttons\">\n",
              "\n",
              "  <div class=\"colab-df-container\">\n",
              "    <button class=\"colab-df-convert\" onclick=\"convertToInteractive('df-d4e69233-596f-4055-b6a9-9d689e3cfb06')\"\n",
              "            title=\"Convert this dataframe to an interactive table.\"\n",
              "            style=\"display:none;\">\n",
              "\n",
              "  <svg xmlns=\"http://www.w3.org/2000/svg\" height=\"24px\" viewBox=\"0 -960 960 960\">\n",
              "    <path d=\"M120-120v-720h720v720H120Zm60-500h600v-160H180v160Zm220 220h160v-160H400v160Zm0 220h160v-160H400v160ZM180-400h160v-160H180v160Zm440 0h160v-160H620v160ZM180-180h160v-160H180v160Zm440 0h160v-160H620v160Z\"/>\n",
              "  </svg>\n",
              "    </button>\n",
              "\n",
              "  <style>\n",
              "    .colab-df-container {\n",
              "      display:flex;\n",
              "      gap: 12px;\n",
              "    }\n",
              "\n",
              "    .colab-df-convert {\n",
              "      background-color: #E8F0FE;\n",
              "      border: none;\n",
              "      border-radius: 50%;\n",
              "      cursor: pointer;\n",
              "      display: none;\n",
              "      fill: #1967D2;\n",
              "      height: 32px;\n",
              "      padding: 0 0 0 0;\n",
              "      width: 32px;\n",
              "    }\n",
              "\n",
              "    .colab-df-convert:hover {\n",
              "      background-color: #E2EBFA;\n",
              "      box-shadow: 0px 1px 2px rgba(60, 64, 67, 0.3), 0px 1px 3px 1px rgba(60, 64, 67, 0.15);\n",
              "      fill: #174EA6;\n",
              "    }\n",
              "\n",
              "    .colab-df-buttons div {\n",
              "      margin-bottom: 4px;\n",
              "    }\n",
              "\n",
              "    [theme=dark] .colab-df-convert {\n",
              "      background-color: #3B4455;\n",
              "      fill: #D2E3FC;\n",
              "    }\n",
              "\n",
              "    [theme=dark] .colab-df-convert:hover {\n",
              "      background-color: #434B5C;\n",
              "      box-shadow: 0px 1px 3px 1px rgba(0, 0, 0, 0.15);\n",
              "      filter: drop-shadow(0px 1px 2px rgba(0, 0, 0, 0.3));\n",
              "      fill: #FFFFFF;\n",
              "    }\n",
              "  </style>\n",
              "\n",
              "    <script>\n",
              "      const buttonEl =\n",
              "        document.querySelector('#df-d4e69233-596f-4055-b6a9-9d689e3cfb06 button.colab-df-convert');\n",
              "      buttonEl.style.display =\n",
              "        google.colab.kernel.accessAllowed ? 'block' : 'none';\n",
              "\n",
              "      async function convertToInteractive(key) {\n",
              "        const element = document.querySelector('#df-d4e69233-596f-4055-b6a9-9d689e3cfb06');\n",
              "        const dataTable =\n",
              "          await google.colab.kernel.invokeFunction('convertToInteractive',\n",
              "                                                    [key], {});\n",
              "        if (!dataTable) return;\n",
              "\n",
              "        const docLinkHtml = 'Like what you see? Visit the ' +\n",
              "          '<a target=\"_blank\" href=https://colab.research.google.com/notebooks/data_table.ipynb>data table notebook</a>'\n",
              "          + ' to learn more about interactive tables.';\n",
              "        element.innerHTML = '';\n",
              "        dataTable['output_type'] = 'display_data';\n",
              "        await google.colab.output.renderOutput(dataTable, element);\n",
              "        const docLink = document.createElement('div');\n",
              "        docLink.innerHTML = docLinkHtml;\n",
              "        element.appendChild(docLink);\n",
              "      }\n",
              "    </script>\n",
              "  </div>\n",
              "\n",
              "\n",
              "<div id=\"df-e5c2bbf7-7a0a-4d2d-98de-ccf05d40212d\">\n",
              "  <button class=\"colab-df-quickchart\" onclick=\"quickchart('df-e5c2bbf7-7a0a-4d2d-98de-ccf05d40212d')\"\n",
              "            title=\"Suggest charts\"\n",
              "            style=\"display:none;\">\n",
              "\n",
              "<svg xmlns=\"http://www.w3.org/2000/svg\" height=\"24px\"viewBox=\"0 0 24 24\"\n",
              "     width=\"24px\">\n",
              "    <g>\n",
              "        <path d=\"M19 3H5c-1.1 0-2 .9-2 2v14c0 1.1.9 2 2 2h14c1.1 0 2-.9 2-2V5c0-1.1-.9-2-2-2zM9 17H7v-7h2v7zm4 0h-2V7h2v10zm4 0h-2v-4h2v4z\"/>\n",
              "    </g>\n",
              "</svg>\n",
              "  </button>\n",
              "\n",
              "<style>\n",
              "  .colab-df-quickchart {\n",
              "      --bg-color: #E8F0FE;\n",
              "      --fill-color: #1967D2;\n",
              "      --hover-bg-color: #E2EBFA;\n",
              "      --hover-fill-color: #174EA6;\n",
              "      --disabled-fill-color: #AAA;\n",
              "      --disabled-bg-color: #DDD;\n",
              "  }\n",
              "\n",
              "  [theme=dark] .colab-df-quickchart {\n",
              "      --bg-color: #3B4455;\n",
              "      --fill-color: #D2E3FC;\n",
              "      --hover-bg-color: #434B5C;\n",
              "      --hover-fill-color: #FFFFFF;\n",
              "      --disabled-bg-color: #3B4455;\n",
              "      --disabled-fill-color: #666;\n",
              "  }\n",
              "\n",
              "  .colab-df-quickchart {\n",
              "    background-color: var(--bg-color);\n",
              "    border: none;\n",
              "    border-radius: 50%;\n",
              "    cursor: pointer;\n",
              "    display: none;\n",
              "    fill: var(--fill-color);\n",
              "    height: 32px;\n",
              "    padding: 0;\n",
              "    width: 32px;\n",
              "  }\n",
              "\n",
              "  .colab-df-quickchart:hover {\n",
              "    background-color: var(--hover-bg-color);\n",
              "    box-shadow: 0 1px 2px rgba(60, 64, 67, 0.3), 0 1px 3px 1px rgba(60, 64, 67, 0.15);\n",
              "    fill: var(--button-hover-fill-color);\n",
              "  }\n",
              "\n",
              "  .colab-df-quickchart-complete:disabled,\n",
              "  .colab-df-quickchart-complete:disabled:hover {\n",
              "    background-color: var(--disabled-bg-color);\n",
              "    fill: var(--disabled-fill-color);\n",
              "    box-shadow: none;\n",
              "  }\n",
              "\n",
              "  .colab-df-spinner {\n",
              "    border: 2px solid var(--fill-color);\n",
              "    border-color: transparent;\n",
              "    border-bottom-color: var(--fill-color);\n",
              "    animation:\n",
              "      spin 1s steps(1) infinite;\n",
              "  }\n",
              "\n",
              "  @keyframes spin {\n",
              "    0% {\n",
              "      border-color: transparent;\n",
              "      border-bottom-color: var(--fill-color);\n",
              "      border-left-color: var(--fill-color);\n",
              "    }\n",
              "    20% {\n",
              "      border-color: transparent;\n",
              "      border-left-color: var(--fill-color);\n",
              "      border-top-color: var(--fill-color);\n",
              "    }\n",
              "    30% {\n",
              "      border-color: transparent;\n",
              "      border-left-color: var(--fill-color);\n",
              "      border-top-color: var(--fill-color);\n",
              "      border-right-color: var(--fill-color);\n",
              "    }\n",
              "    40% {\n",
              "      border-color: transparent;\n",
              "      border-right-color: var(--fill-color);\n",
              "      border-top-color: var(--fill-color);\n",
              "    }\n",
              "    60% {\n",
              "      border-color: transparent;\n",
              "      border-right-color: var(--fill-color);\n",
              "    }\n",
              "    80% {\n",
              "      border-color: transparent;\n",
              "      border-right-color: var(--fill-color);\n",
              "      border-bottom-color: var(--fill-color);\n",
              "    }\n",
              "    90% {\n",
              "      border-color: transparent;\n",
              "      border-bottom-color: var(--fill-color);\n",
              "    }\n",
              "  }\n",
              "</style>\n",
              "\n",
              "  <script>\n",
              "    async function quickchart(key) {\n",
              "      const quickchartButtonEl =\n",
              "        document.querySelector('#' + key + ' button');\n",
              "      quickchartButtonEl.disabled = true;  // To prevent multiple clicks.\n",
              "      quickchartButtonEl.classList.add('colab-df-spinner');\n",
              "      try {\n",
              "        const charts = await google.colab.kernel.invokeFunction(\n",
              "            'suggestCharts', [key], {});\n",
              "      } catch (error) {\n",
              "        console.error('Error during call to suggestCharts:', error);\n",
              "      }\n",
              "      quickchartButtonEl.classList.remove('colab-df-spinner');\n",
              "      quickchartButtonEl.classList.add('colab-df-quickchart-complete');\n",
              "    }\n",
              "    (() => {\n",
              "      let quickchartButtonEl =\n",
              "        document.querySelector('#df-e5c2bbf7-7a0a-4d2d-98de-ccf05d40212d button');\n",
              "      quickchartButtonEl.style.display =\n",
              "        google.colab.kernel.accessAllowed ? 'block' : 'none';\n",
              "    })();\n",
              "  </script>\n",
              "</div>\n",
              "\n",
              "    </div>\n",
              "  </div>\n"
            ],
            "application/vnd.google.colaboratory.intrinsic+json": {
              "type": "dataframe",
              "variable_name": "train_df"
            }
          },
          "metadata": {},
          "execution_count": 11
        }
      ]
    },
    {
      "cell_type": "code",
      "source": [
        "valid_df.head()"
      ],
      "metadata": {
        "colab": {
          "base_uri": "https://localhost:8080/",
          "height": 235
        },
        "id": "JrZHYAC639y8",
        "outputId": "6dcd8ef3-25db-4863-dd9c-ec37dde66237"
      },
      "execution_count": null,
      "outputs": [
        {
          "output_type": "execute_result",
          "data": {
            "text/plain": [
              "   label  1x1  1x2  1x3  1x4  1x5  1x6  1x7  1x8  1x9  ...  28x19  28x20  \\\n",
              "0      7    0    0    0    0    0    0    0    0    0  ...      0      0   \n",
              "1      2    0    0    0    0    0    0    0    0    0  ...      0      0   \n",
              "2      1    0    0    0    0    0    0    0    0    0  ...      0      0   \n",
              "3      0    0    0    0    0    0    0    0    0    0  ...      0      0   \n",
              "4      4    0    0    0    0    0    0    0    0    0  ...      0      0   \n",
              "\n",
              "   28x21  28x22  28x23  28x24  28x25  28x26  28x27  28x28  \n",
              "0      0      0      0      0      0      0      0      0  \n",
              "1      0      0      0      0      0      0      0      0  \n",
              "2      0      0      0      0      0      0      0      0  \n",
              "3      0      0      0      0      0      0      0      0  \n",
              "4      0      0      0      0      0      0      0      0  \n",
              "\n",
              "[5 rows x 785 columns]"
            ],
            "text/html": [
              "\n",
              "  <div id=\"df-5ea02ce5-9702-4962-99d8-88d0ece0054b\" class=\"colab-df-container\">\n",
              "    <div>\n",
              "<style scoped>\n",
              "    .dataframe tbody tr th:only-of-type {\n",
              "        vertical-align: middle;\n",
              "    }\n",
              "\n",
              "    .dataframe tbody tr th {\n",
              "        vertical-align: top;\n",
              "    }\n",
              "\n",
              "    .dataframe thead th {\n",
              "        text-align: right;\n",
              "    }\n",
              "</style>\n",
              "<table border=\"1\" class=\"dataframe\">\n",
              "  <thead>\n",
              "    <tr style=\"text-align: right;\">\n",
              "      <th></th>\n",
              "      <th>label</th>\n",
              "      <th>1x1</th>\n",
              "      <th>1x2</th>\n",
              "      <th>1x3</th>\n",
              "      <th>1x4</th>\n",
              "      <th>1x5</th>\n",
              "      <th>1x6</th>\n",
              "      <th>1x7</th>\n",
              "      <th>1x8</th>\n",
              "      <th>1x9</th>\n",
              "      <th>...</th>\n",
              "      <th>28x19</th>\n",
              "      <th>28x20</th>\n",
              "      <th>28x21</th>\n",
              "      <th>28x22</th>\n",
              "      <th>28x23</th>\n",
              "      <th>28x24</th>\n",
              "      <th>28x25</th>\n",
              "      <th>28x26</th>\n",
              "      <th>28x27</th>\n",
              "      <th>28x28</th>\n",
              "    </tr>\n",
              "  </thead>\n",
              "  <tbody>\n",
              "    <tr>\n",
              "      <th>0</th>\n",
              "      <td>7</td>\n",
              "      <td>0</td>\n",
              "      <td>0</td>\n",
              "      <td>0</td>\n",
              "      <td>0</td>\n",
              "      <td>0</td>\n",
              "      <td>0</td>\n",
              "      <td>0</td>\n",
              "      <td>0</td>\n",
              "      <td>0</td>\n",
              "      <td>...</td>\n",
              "      <td>0</td>\n",
              "      <td>0</td>\n",
              "      <td>0</td>\n",
              "      <td>0</td>\n",
              "      <td>0</td>\n",
              "      <td>0</td>\n",
              "      <td>0</td>\n",
              "      <td>0</td>\n",
              "      <td>0</td>\n",
              "      <td>0</td>\n",
              "    </tr>\n",
              "    <tr>\n",
              "      <th>1</th>\n",
              "      <td>2</td>\n",
              "      <td>0</td>\n",
              "      <td>0</td>\n",
              "      <td>0</td>\n",
              "      <td>0</td>\n",
              "      <td>0</td>\n",
              "      <td>0</td>\n",
              "      <td>0</td>\n",
              "      <td>0</td>\n",
              "      <td>0</td>\n",
              "      <td>...</td>\n",
              "      <td>0</td>\n",
              "      <td>0</td>\n",
              "      <td>0</td>\n",
              "      <td>0</td>\n",
              "      <td>0</td>\n",
              "      <td>0</td>\n",
              "      <td>0</td>\n",
              "      <td>0</td>\n",
              "      <td>0</td>\n",
              "      <td>0</td>\n",
              "    </tr>\n",
              "    <tr>\n",
              "      <th>2</th>\n",
              "      <td>1</td>\n",
              "      <td>0</td>\n",
              "      <td>0</td>\n",
              "      <td>0</td>\n",
              "      <td>0</td>\n",
              "      <td>0</td>\n",
              "      <td>0</td>\n",
              "      <td>0</td>\n",
              "      <td>0</td>\n",
              "      <td>0</td>\n",
              "      <td>...</td>\n",
              "      <td>0</td>\n",
              "      <td>0</td>\n",
              "      <td>0</td>\n",
              "      <td>0</td>\n",
              "      <td>0</td>\n",
              "      <td>0</td>\n",
              "      <td>0</td>\n",
              "      <td>0</td>\n",
              "      <td>0</td>\n",
              "      <td>0</td>\n",
              "    </tr>\n",
              "    <tr>\n",
              "      <th>3</th>\n",
              "      <td>0</td>\n",
              "      <td>0</td>\n",
              "      <td>0</td>\n",
              "      <td>0</td>\n",
              "      <td>0</td>\n",
              "      <td>0</td>\n",
              "      <td>0</td>\n",
              "      <td>0</td>\n",
              "      <td>0</td>\n",
              "      <td>0</td>\n",
              "      <td>...</td>\n",
              "      <td>0</td>\n",
              "      <td>0</td>\n",
              "      <td>0</td>\n",
              "      <td>0</td>\n",
              "      <td>0</td>\n",
              "      <td>0</td>\n",
              "      <td>0</td>\n",
              "      <td>0</td>\n",
              "      <td>0</td>\n",
              "      <td>0</td>\n",
              "    </tr>\n",
              "    <tr>\n",
              "      <th>4</th>\n",
              "      <td>4</td>\n",
              "      <td>0</td>\n",
              "      <td>0</td>\n",
              "      <td>0</td>\n",
              "      <td>0</td>\n",
              "      <td>0</td>\n",
              "      <td>0</td>\n",
              "      <td>0</td>\n",
              "      <td>0</td>\n",
              "      <td>0</td>\n",
              "      <td>...</td>\n",
              "      <td>0</td>\n",
              "      <td>0</td>\n",
              "      <td>0</td>\n",
              "      <td>0</td>\n",
              "      <td>0</td>\n",
              "      <td>0</td>\n",
              "      <td>0</td>\n",
              "      <td>0</td>\n",
              "      <td>0</td>\n",
              "      <td>0</td>\n",
              "    </tr>\n",
              "  </tbody>\n",
              "</table>\n",
              "<p>5 rows × 785 columns</p>\n",
              "</div>\n",
              "    <div class=\"colab-df-buttons\">\n",
              "\n",
              "  <div class=\"colab-df-container\">\n",
              "    <button class=\"colab-df-convert\" onclick=\"convertToInteractive('df-5ea02ce5-9702-4962-99d8-88d0ece0054b')\"\n",
              "            title=\"Convert this dataframe to an interactive table.\"\n",
              "            style=\"display:none;\">\n",
              "\n",
              "  <svg xmlns=\"http://www.w3.org/2000/svg\" height=\"24px\" viewBox=\"0 -960 960 960\">\n",
              "    <path d=\"M120-120v-720h720v720H120Zm60-500h600v-160H180v160Zm220 220h160v-160H400v160Zm0 220h160v-160H400v160ZM180-400h160v-160H180v160Zm440 0h160v-160H620v160ZM180-180h160v-160H180v160Zm440 0h160v-160H620v160Z\"/>\n",
              "  </svg>\n",
              "    </button>\n",
              "\n",
              "  <style>\n",
              "    .colab-df-container {\n",
              "      display:flex;\n",
              "      gap: 12px;\n",
              "    }\n",
              "\n",
              "    .colab-df-convert {\n",
              "      background-color: #E8F0FE;\n",
              "      border: none;\n",
              "      border-radius: 50%;\n",
              "      cursor: pointer;\n",
              "      display: none;\n",
              "      fill: #1967D2;\n",
              "      height: 32px;\n",
              "      padding: 0 0 0 0;\n",
              "      width: 32px;\n",
              "    }\n",
              "\n",
              "    .colab-df-convert:hover {\n",
              "      background-color: #E2EBFA;\n",
              "      box-shadow: 0px 1px 2px rgba(60, 64, 67, 0.3), 0px 1px 3px 1px rgba(60, 64, 67, 0.15);\n",
              "      fill: #174EA6;\n",
              "    }\n",
              "\n",
              "    .colab-df-buttons div {\n",
              "      margin-bottom: 4px;\n",
              "    }\n",
              "\n",
              "    [theme=dark] .colab-df-convert {\n",
              "      background-color: #3B4455;\n",
              "      fill: #D2E3FC;\n",
              "    }\n",
              "\n",
              "    [theme=dark] .colab-df-convert:hover {\n",
              "      background-color: #434B5C;\n",
              "      box-shadow: 0px 1px 3px 1px rgba(0, 0, 0, 0.15);\n",
              "      filter: drop-shadow(0px 1px 2px rgba(0, 0, 0, 0.3));\n",
              "      fill: #FFFFFF;\n",
              "    }\n",
              "  </style>\n",
              "\n",
              "    <script>\n",
              "      const buttonEl =\n",
              "        document.querySelector('#df-5ea02ce5-9702-4962-99d8-88d0ece0054b button.colab-df-convert');\n",
              "      buttonEl.style.display =\n",
              "        google.colab.kernel.accessAllowed ? 'block' : 'none';\n",
              "\n",
              "      async function convertToInteractive(key) {\n",
              "        const element = document.querySelector('#df-5ea02ce5-9702-4962-99d8-88d0ece0054b');\n",
              "        const dataTable =\n",
              "          await google.colab.kernel.invokeFunction('convertToInteractive',\n",
              "                                                    [key], {});\n",
              "        if (!dataTable) return;\n",
              "\n",
              "        const docLinkHtml = 'Like what you see? Visit the ' +\n",
              "          '<a target=\"_blank\" href=https://colab.research.google.com/notebooks/data_table.ipynb>data table notebook</a>'\n",
              "          + ' to learn more about interactive tables.';\n",
              "        element.innerHTML = '';\n",
              "        dataTable['output_type'] = 'display_data';\n",
              "        await google.colab.output.renderOutput(dataTable, element);\n",
              "        const docLink = document.createElement('div');\n",
              "        docLink.innerHTML = docLinkHtml;\n",
              "        element.appendChild(docLink);\n",
              "      }\n",
              "    </script>\n",
              "  </div>\n",
              "\n",
              "\n",
              "<div id=\"df-04f3bc42-08bf-4946-9ab3-aad4e828de83\">\n",
              "  <button class=\"colab-df-quickchart\" onclick=\"quickchart('df-04f3bc42-08bf-4946-9ab3-aad4e828de83')\"\n",
              "            title=\"Suggest charts\"\n",
              "            style=\"display:none;\">\n",
              "\n",
              "<svg xmlns=\"http://www.w3.org/2000/svg\" height=\"24px\"viewBox=\"0 0 24 24\"\n",
              "     width=\"24px\">\n",
              "    <g>\n",
              "        <path d=\"M19 3H5c-1.1 0-2 .9-2 2v14c0 1.1.9 2 2 2h14c1.1 0 2-.9 2-2V5c0-1.1-.9-2-2-2zM9 17H7v-7h2v7zm4 0h-2V7h2v10zm4 0h-2v-4h2v4z\"/>\n",
              "    </g>\n",
              "</svg>\n",
              "  </button>\n",
              "\n",
              "<style>\n",
              "  .colab-df-quickchart {\n",
              "      --bg-color: #E8F0FE;\n",
              "      --fill-color: #1967D2;\n",
              "      --hover-bg-color: #E2EBFA;\n",
              "      --hover-fill-color: #174EA6;\n",
              "      --disabled-fill-color: #AAA;\n",
              "      --disabled-bg-color: #DDD;\n",
              "  }\n",
              "\n",
              "  [theme=dark] .colab-df-quickchart {\n",
              "      --bg-color: #3B4455;\n",
              "      --fill-color: #D2E3FC;\n",
              "      --hover-bg-color: #434B5C;\n",
              "      --hover-fill-color: #FFFFFF;\n",
              "      --disabled-bg-color: #3B4455;\n",
              "      --disabled-fill-color: #666;\n",
              "  }\n",
              "\n",
              "  .colab-df-quickchart {\n",
              "    background-color: var(--bg-color);\n",
              "    border: none;\n",
              "    border-radius: 50%;\n",
              "    cursor: pointer;\n",
              "    display: none;\n",
              "    fill: var(--fill-color);\n",
              "    height: 32px;\n",
              "    padding: 0;\n",
              "    width: 32px;\n",
              "  }\n",
              "\n",
              "  .colab-df-quickchart:hover {\n",
              "    background-color: var(--hover-bg-color);\n",
              "    box-shadow: 0 1px 2px rgba(60, 64, 67, 0.3), 0 1px 3px 1px rgba(60, 64, 67, 0.15);\n",
              "    fill: var(--button-hover-fill-color);\n",
              "  }\n",
              "\n",
              "  .colab-df-quickchart-complete:disabled,\n",
              "  .colab-df-quickchart-complete:disabled:hover {\n",
              "    background-color: var(--disabled-bg-color);\n",
              "    fill: var(--disabled-fill-color);\n",
              "    box-shadow: none;\n",
              "  }\n",
              "\n",
              "  .colab-df-spinner {\n",
              "    border: 2px solid var(--fill-color);\n",
              "    border-color: transparent;\n",
              "    border-bottom-color: var(--fill-color);\n",
              "    animation:\n",
              "      spin 1s steps(1) infinite;\n",
              "  }\n",
              "\n",
              "  @keyframes spin {\n",
              "    0% {\n",
              "      border-color: transparent;\n",
              "      border-bottom-color: var(--fill-color);\n",
              "      border-left-color: var(--fill-color);\n",
              "    }\n",
              "    20% {\n",
              "      border-color: transparent;\n",
              "      border-left-color: var(--fill-color);\n",
              "      border-top-color: var(--fill-color);\n",
              "    }\n",
              "    30% {\n",
              "      border-color: transparent;\n",
              "      border-left-color: var(--fill-color);\n",
              "      border-top-color: var(--fill-color);\n",
              "      border-right-color: var(--fill-color);\n",
              "    }\n",
              "    40% {\n",
              "      border-color: transparent;\n",
              "      border-right-color: var(--fill-color);\n",
              "      border-top-color: var(--fill-color);\n",
              "    }\n",
              "    60% {\n",
              "      border-color: transparent;\n",
              "      border-right-color: var(--fill-color);\n",
              "    }\n",
              "    80% {\n",
              "      border-color: transparent;\n",
              "      border-right-color: var(--fill-color);\n",
              "      border-bottom-color: var(--fill-color);\n",
              "    }\n",
              "    90% {\n",
              "      border-color: transparent;\n",
              "      border-bottom-color: var(--fill-color);\n",
              "    }\n",
              "  }\n",
              "</style>\n",
              "\n",
              "  <script>\n",
              "    async function quickchart(key) {\n",
              "      const quickchartButtonEl =\n",
              "        document.querySelector('#' + key + ' button');\n",
              "      quickchartButtonEl.disabled = true;  // To prevent multiple clicks.\n",
              "      quickchartButtonEl.classList.add('colab-df-spinner');\n",
              "      try {\n",
              "        const charts = await google.colab.kernel.invokeFunction(\n",
              "            'suggestCharts', [key], {});\n",
              "      } catch (error) {\n",
              "        console.error('Error during call to suggestCharts:', error);\n",
              "      }\n",
              "      quickchartButtonEl.classList.remove('colab-df-spinner');\n",
              "      quickchartButtonEl.classList.add('colab-df-quickchart-complete');\n",
              "    }\n",
              "    (() => {\n",
              "      let quickchartButtonEl =\n",
              "        document.querySelector('#df-04f3bc42-08bf-4946-9ab3-aad4e828de83 button');\n",
              "      quickchartButtonEl.style.display =\n",
              "        google.colab.kernel.accessAllowed ? 'block' : 'none';\n",
              "    })();\n",
              "  </script>\n",
              "</div>\n",
              "\n",
              "    </div>\n",
              "  </div>\n"
            ],
            "application/vnd.google.colaboratory.intrinsic+json": {
              "type": "dataframe",
              "variable_name": "valid_df"
            }
          },
          "metadata": {},
          "execution_count": 12
        }
      ]
    },
    {
      "cell_type": "markdown",
      "source": [
        "##1.Create Dataset, DataLoader"
      ],
      "metadata": {
        "id": "1HSgCn6r4oSz"
      }
    },
    {
      "cell_type": "code",
      "source": [
        "class MyDataset(Dataset):\n",
        "  def __init__(self,base_df):\n",
        "    x_df = base_df.copy() #sao chép dữ liệu đầu vào để không thay đổi bản gốc.\n",
        "    y_df = x_df.pop('label') # tách cột label làm biến đầu ra(nhãn)\n",
        "    x_df = x_df.values/255 #chuẩn hóa dữ liệu nằm trong khoảng(0,1)\n",
        "    x_df = x_df.reshape(-1,IMG_CHS,IMG_WIDTH,IMG_HEIGHT) # chuyển đổi dữ liệu thành định dạng phù hợp với mô hình CNN(số mẫu, số kênh ảnh, chiều rộng, chiều cao)\n",
        "    self.xs = torch.tensor(x_df).float().to(device) # chuyển đổi dữ liệu thành Tensor và di chuyển nó vào thiết bị CPU/GPU\n",
        "    self.ys = torch.tensor(y_df).to(device) # chuyển dữ liệu nhãn đầu ra thành Tensor và di chuyển nó vào thiết bị CPU/GPU\n",
        "\n",
        "  def __getitem__(self,index): #hàm này chả về một mẫu dữ liệu tại chỉ số index, dữ liệu trả về là tuple(x,y). x: dữ liệu đầu vào tại chỉ số index, y: nhãn tương ứng\n",
        "    return self.xs[index], self.ys[index]\n",
        "\n",
        "  def __len__(self):# tổng số mẫu trong tập dữ liệu.\n",
        "    return len(self.xs)\n",
        "\n",
        "#Lí do để -1 trong đoạn code x.df.reshape(-1..): khi ta không chắc chắn về số lượng mẫu(batch_size) trong dữ liệu\n",
        "#Khi cần chỉ định lại tensor theo các chiều cố định khác.\n",
        "\n",
        "\n"
      ],
      "metadata": {
        "id": "mTt10ihg4r_c"
      },
      "execution_count": null,
      "outputs": []
    },
    {
      "cell_type": "code",
      "source": [
        "n = 32\n",
        "train_data = MyDataset(train_df)\n",
        "train_loader = DataLoader(train_data, batch_size = n, shuffle = True)\n",
        "train_N = len(train_loader.dataset)\n",
        "\n",
        "valid_data = MyDataset(valid_df)\n",
        "valid_loader = DataLoader(valid_data, batch_size = n)\n",
        "valid_N = len(valid_loader.dataset)\n"
      ],
      "metadata": {
        "id": "1j8k21jH553d"
      },
      "execution_count": null,
      "outputs": []
    },
    {
      "cell_type": "markdown",
      "source": [
        "##2.Build Model"
      ],
      "metadata": {
        "id": "QS-eWHO8DhDw"
      }
    },
    {
      "cell_type": "code",
      "source": [
        "class MyConvBlock(nn.Module):\n",
        "  def __init__(self,in_ch,out_ch,dropout_p):\n",
        "      kernel_size = 3\n",
        "      super().__init__()\n",
        "\n",
        "      self.model = nn.Sequential(\n",
        "      nn.Conv2d(in_ch,out_ch,kernel_size,stride = 1, padding = 1),\n",
        "      nn.BatchNorm2d(out_ch),\n",
        "      nn.ReLU(),\n",
        "      nn.Dropout(dropout_p),\n",
        "      nn.MaxPool2d(2,stride = 2)\n",
        "      )\n",
        "\n",
        "  def forward(self,x):\n",
        "    return self.model(x)"
      ],
      "metadata": {
        "id": "eHZMENT16y1P"
      },
      "execution_count": null,
      "outputs": []
    },
    {
      "cell_type": "code",
      "source": [
        "flatten_img_size = 75*3*3\n",
        "#input: 1*28*28\n",
        "base_model = nn.Sequential(\n",
        "    MyConvBlock(IMG_CHS,25,0),\n",
        "    MyConvBlock(25,50,0.2),\n",
        "    MyConvBlock(50,75,0),\n",
        "    #Flatten to dense layer\n",
        "    nn.Flatten(), # chuyển tensor thành 1 vector phẳng\n",
        "    nn.Linear(flatten_img_size,512), #Fully connected giữa số lượng giá trị đầu vào và số lượng node ẩn(ở đây là 512)\n",
        "    nn.Dropout(.3),# Tắt ngẫu nhiên 30% node để giảm overfitting\n",
        "    nn.ReLU(), # dùng hàm kích hoạt giúp mô hình học được những đặc trưng phi tuyến tính, tránh overfitting\n",
        "    nn.Linear(512,n_classes), #dùng 512 lớp ẩn vừa rồi kết nối với số lượng lớp cần phân loại -> có số đầu ra tương ứng với số nhãn cần phân loại\n",
        "\n",
        ")\n",
        "\n",
        "model = torch.compile(base_model.to(device))\n",
        "model\n"
      ],
      "metadata": {
        "colab": {
          "base_uri": "https://localhost:8080/"
        },
        "id": "buQ4aVewCBuY",
        "outputId": "ce50009c-a6b4-430f-9518-4152457119af"
      },
      "execution_count": null,
      "outputs": [
        {
          "output_type": "execute_result",
          "data": {
            "text/plain": [
              "OptimizedModule(\n",
              "  (_orig_mod): Sequential(\n",
              "    (0): MyConvBlock(\n",
              "      (model): Sequential(\n",
              "        (0): Conv2d(1, 25, kernel_size=(3, 3), stride=(1, 1), padding=(1, 1))\n",
              "        (1): BatchNorm2d(25, eps=1e-05, momentum=0.1, affine=True, track_running_stats=True)\n",
              "        (2): ReLU()\n",
              "        (3): Dropout(p=0, inplace=False)\n",
              "        (4): MaxPool2d(kernel_size=2, stride=2, padding=0, dilation=1, ceil_mode=False)\n",
              "      )\n",
              "    )\n",
              "    (1): MyConvBlock(\n",
              "      (model): Sequential(\n",
              "        (0): Conv2d(25, 50, kernel_size=(3, 3), stride=(1, 1), padding=(1, 1))\n",
              "        (1): BatchNorm2d(50, eps=1e-05, momentum=0.1, affine=True, track_running_stats=True)\n",
              "        (2): ReLU()\n",
              "        (3): Dropout(p=0.2, inplace=False)\n",
              "        (4): MaxPool2d(kernel_size=2, stride=2, padding=0, dilation=1, ceil_mode=False)\n",
              "      )\n",
              "    )\n",
              "    (2): MyConvBlock(\n",
              "      (model): Sequential(\n",
              "        (0): Conv2d(50, 75, kernel_size=(3, 3), stride=(1, 1), padding=(1, 1))\n",
              "        (1): BatchNorm2d(75, eps=1e-05, momentum=0.1, affine=True, track_running_stats=True)\n",
              "        (2): ReLU()\n",
              "        (3): Dropout(p=0, inplace=False)\n",
              "        (4): MaxPool2d(kernel_size=2, stride=2, padding=0, dilation=1, ceil_mode=False)\n",
              "      )\n",
              "    )\n",
              "    (3): Flatten(start_dim=1, end_dim=-1)\n",
              "    (4): Linear(in_features=675, out_features=512, bias=True)\n",
              "    (5): Dropout(p=0.3, inplace=False)\n",
              "    (6): ReLU()\n",
              "    (7): Linear(in_features=512, out_features=24, bias=True)\n",
              "  )\n",
              ")"
            ]
          },
          "metadata": {},
          "execution_count": 16
        }
      ]
    },
    {
      "cell_type": "markdown",
      "source": [
        "##3.Build Loss Function"
      ],
      "metadata": {
        "id": "KCOoS_woGcqx"
      }
    },
    {
      "cell_type": "code",
      "source": [
        "loss_function = nn.CrossEntropyLoss()\n",
        "optimizer = Adam(model.parameters())\n"
      ],
      "metadata": {
        "id": "_U5rS7TxGf5w"
      },
      "execution_count": null,
      "outputs": []
    },
    {
      "cell_type": "code",
      "source": [
        "train_df.head(1)"
      ],
      "metadata": {
        "colab": {
          "base_uri": "https://localhost:8080/",
          "height": 110
        },
        "id": "0gpXAVZtJLQv",
        "outputId": "d4aea7ca-b377-4b25-ed47-71ad5f874071"
      },
      "execution_count": null,
      "outputs": [
        {
          "output_type": "execute_result",
          "data": {
            "text/plain": [
              "   label  1x1  1x2  1x3  1x4  1x5  1x6  1x7  1x8  1x9  ...  28x19  28x20  \\\n",
              "0      5    0    0    0    0    0    0    0    0    0  ...      0      0   \n",
              "\n",
              "   28x21  28x22  28x23  28x24  28x25  28x26  28x27  28x28  \n",
              "0      0      0      0      0      0      0      0      0  \n",
              "\n",
              "[1 rows x 785 columns]"
            ],
            "text/html": [
              "\n",
              "  <div id=\"df-b41a8384-65d9-4e82-a57a-e1cdff7dead7\" class=\"colab-df-container\">\n",
              "    <div>\n",
              "<style scoped>\n",
              "    .dataframe tbody tr th:only-of-type {\n",
              "        vertical-align: middle;\n",
              "    }\n",
              "\n",
              "    .dataframe tbody tr th {\n",
              "        vertical-align: top;\n",
              "    }\n",
              "\n",
              "    .dataframe thead th {\n",
              "        text-align: right;\n",
              "    }\n",
              "</style>\n",
              "<table border=\"1\" class=\"dataframe\">\n",
              "  <thead>\n",
              "    <tr style=\"text-align: right;\">\n",
              "      <th></th>\n",
              "      <th>label</th>\n",
              "      <th>1x1</th>\n",
              "      <th>1x2</th>\n",
              "      <th>1x3</th>\n",
              "      <th>1x4</th>\n",
              "      <th>1x5</th>\n",
              "      <th>1x6</th>\n",
              "      <th>1x7</th>\n",
              "      <th>1x8</th>\n",
              "      <th>1x9</th>\n",
              "      <th>...</th>\n",
              "      <th>28x19</th>\n",
              "      <th>28x20</th>\n",
              "      <th>28x21</th>\n",
              "      <th>28x22</th>\n",
              "      <th>28x23</th>\n",
              "      <th>28x24</th>\n",
              "      <th>28x25</th>\n",
              "      <th>28x26</th>\n",
              "      <th>28x27</th>\n",
              "      <th>28x28</th>\n",
              "    </tr>\n",
              "  </thead>\n",
              "  <tbody>\n",
              "    <tr>\n",
              "      <th>0</th>\n",
              "      <td>5</td>\n",
              "      <td>0</td>\n",
              "      <td>0</td>\n",
              "      <td>0</td>\n",
              "      <td>0</td>\n",
              "      <td>0</td>\n",
              "      <td>0</td>\n",
              "      <td>0</td>\n",
              "      <td>0</td>\n",
              "      <td>0</td>\n",
              "      <td>...</td>\n",
              "      <td>0</td>\n",
              "      <td>0</td>\n",
              "      <td>0</td>\n",
              "      <td>0</td>\n",
              "      <td>0</td>\n",
              "      <td>0</td>\n",
              "      <td>0</td>\n",
              "      <td>0</td>\n",
              "      <td>0</td>\n",
              "      <td>0</td>\n",
              "    </tr>\n",
              "  </tbody>\n",
              "</table>\n",
              "<p>1 rows × 785 columns</p>\n",
              "</div>\n",
              "    <div class=\"colab-df-buttons\">\n",
              "\n",
              "  <div class=\"colab-df-container\">\n",
              "    <button class=\"colab-df-convert\" onclick=\"convertToInteractive('df-b41a8384-65d9-4e82-a57a-e1cdff7dead7')\"\n",
              "            title=\"Convert this dataframe to an interactive table.\"\n",
              "            style=\"display:none;\">\n",
              "\n",
              "  <svg xmlns=\"http://www.w3.org/2000/svg\" height=\"24px\" viewBox=\"0 -960 960 960\">\n",
              "    <path d=\"M120-120v-720h720v720H120Zm60-500h600v-160H180v160Zm220 220h160v-160H400v160Zm0 220h160v-160H400v160ZM180-400h160v-160H180v160Zm440 0h160v-160H620v160ZM180-180h160v-160H180v160Zm440 0h160v-160H620v160Z\"/>\n",
              "  </svg>\n",
              "    </button>\n",
              "\n",
              "  <style>\n",
              "    .colab-df-container {\n",
              "      display:flex;\n",
              "      gap: 12px;\n",
              "    }\n",
              "\n",
              "    .colab-df-convert {\n",
              "      background-color: #E8F0FE;\n",
              "      border: none;\n",
              "      border-radius: 50%;\n",
              "      cursor: pointer;\n",
              "      display: none;\n",
              "      fill: #1967D2;\n",
              "      height: 32px;\n",
              "      padding: 0 0 0 0;\n",
              "      width: 32px;\n",
              "    }\n",
              "\n",
              "    .colab-df-convert:hover {\n",
              "      background-color: #E2EBFA;\n",
              "      box-shadow: 0px 1px 2px rgba(60, 64, 67, 0.3), 0px 1px 3px 1px rgba(60, 64, 67, 0.15);\n",
              "      fill: #174EA6;\n",
              "    }\n",
              "\n",
              "    .colab-df-buttons div {\n",
              "      margin-bottom: 4px;\n",
              "    }\n",
              "\n",
              "    [theme=dark] .colab-df-convert {\n",
              "      background-color: #3B4455;\n",
              "      fill: #D2E3FC;\n",
              "    }\n",
              "\n",
              "    [theme=dark] .colab-df-convert:hover {\n",
              "      background-color: #434B5C;\n",
              "      box-shadow: 0px 1px 3px 1px rgba(0, 0, 0, 0.15);\n",
              "      filter: drop-shadow(0px 1px 2px rgba(0, 0, 0, 0.3));\n",
              "      fill: #FFFFFF;\n",
              "    }\n",
              "  </style>\n",
              "\n",
              "    <script>\n",
              "      const buttonEl =\n",
              "        document.querySelector('#df-b41a8384-65d9-4e82-a57a-e1cdff7dead7 button.colab-df-convert');\n",
              "      buttonEl.style.display =\n",
              "        google.colab.kernel.accessAllowed ? 'block' : 'none';\n",
              "\n",
              "      async function convertToInteractive(key) {\n",
              "        const element = document.querySelector('#df-b41a8384-65d9-4e82-a57a-e1cdff7dead7');\n",
              "        const dataTable =\n",
              "          await google.colab.kernel.invokeFunction('convertToInteractive',\n",
              "                                                    [key], {});\n",
              "        if (!dataTable) return;\n",
              "\n",
              "        const docLinkHtml = 'Like what you see? Visit the ' +\n",
              "          '<a target=\"_blank\" href=https://colab.research.google.com/notebooks/data_table.ipynb>data table notebook</a>'\n",
              "          + ' to learn more about interactive tables.';\n",
              "        element.innerHTML = '';\n",
              "        dataTable['output_type'] = 'display_data';\n",
              "        await google.colab.output.renderOutput(dataTable, element);\n",
              "        const docLink = document.createElement('div');\n",
              "        docLink.innerHTML = docLinkHtml;\n",
              "        element.appendChild(docLink);\n",
              "      }\n",
              "    </script>\n",
              "  </div>\n",
              "\n",
              "\n",
              "    </div>\n",
              "  </div>\n"
            ],
            "application/vnd.google.colaboratory.intrinsic+json": {
              "type": "dataframe",
              "variable_name": "train_df"
            }
          },
          "metadata": {},
          "execution_count": 18
        }
      ]
    },
    {
      "cell_type": "markdown",
      "source": [
        "##4.Data Augumentation"
      ],
      "metadata": {
        "id": "hk7XMDxLH4OL"
      }
    },
    {
      "cell_type": "code",
      "source": [
        "row_0 = train_df.head(1)\n",
        "y_0 = row_0.pop('label')\n",
        "x_0 = row_0.values/255\n",
        "x_0 = x_0.reshape(IMG_CHS,IMG_WIDTH,IMG_HEIGHT)\n",
        "x_0 = torch.tensor(x_0)\n",
        "x_0.shape"
      ],
      "metadata": {
        "colab": {
          "base_uri": "https://localhost:8080/"
        },
        "id": "3BzWrkJhH6nY",
        "outputId": "ba3fdae8-b750-460b-c479-b1f4c4c41955"
      },
      "execution_count": null,
      "outputs": [
        {
          "output_type": "execute_result",
          "data": {
            "text/plain": [
              "torch.Size([1, 28, 28])"
            ]
          },
          "metadata": {},
          "execution_count": 19
        }
      ]
    },
    {
      "cell_type": "code",
      "source": [
        "image = F.to_pil_image(x_0[0])\n",
        "plt.imshow(image, cmap = 'gray')"
      ],
      "metadata": {
        "colab": {
          "base_uri": "https://localhost:8080/",
          "height": 447
        },
        "id": "uycNfg3eJaIY",
        "outputId": "abdb6eb6-1f85-4662-b7d3-7c9c2c11cfff"
      },
      "execution_count": null,
      "outputs": [
        {
          "output_type": "execute_result",
          "data": {
            "text/plain": [
              "<matplotlib.image.AxesImage at 0x7e21ddec29e0>"
            ]
          },
          "metadata": {},
          "execution_count": 20
        },
        {
          "output_type": "display_data",
          "data": {
            "text/plain": [
              "<Figure size 640x480 with 1 Axes>"
            ],
            "image/png": "[encoded data removed]"
          },
          "metadata": {}
        }
      ]
    },
    {
      "cell_type": "markdown",
      "source": [
        "#4.1.RandomResizedCrop"
      ],
      "metadata": {
        "id": "yBNvet14esiX"
      }
    },
    {
      "cell_type": "code",
      "source": [
        "#RandomResizedCrop\n",
        "trans = transforms.Compose([\n",
        "    transforms.RandomResizedCrop((IMG_WIDTH,IMG_HEIGHT),scale = (.7,1), ratio = (1,1)),\n",
        "])\n",
        "\n"
      ],
      "metadata": {
        "id": "Ewq0sPoWbTJF"
      },
      "execution_count": null,
      "outputs": []
    },
    {
      "cell_type": "code",
      "source": [
        "new_x_0 = trans(x_0)\n",
        "image = F.to_pil_image(new_x_0)\n",
        "plt.imshow(image, cmap='gray')"
      ],
      "metadata": {
        "colab": {
          "base_uri": "https://localhost:8080/",
          "height": 447
        },
        "id": "_DjglbONcOlN",
        "outputId": "0f25b704-1d1a-4fae-e0ca-b06546f883ab"
      },
      "execution_count": null,
      "outputs": [
        {
          "output_type": "execute_result",
          "data": {
            "text/plain": [
              "<matplotlib.image.AxesImage at 0x7e21dde032e0>"
            ]
          },
          "metadata": {},
          "execution_count": 22
        },
        {
          "output_type": "display_data",
          "data": {
            "text/plain": [
              "<Figure size 640x480 with 1 Axes>"
            ],
            "image/png": "[encoded data removed]"
          },
          "metadata": {}
        }
      ]
    },
    {
      "cell_type": "code",
      "source": [
        "new_x_0.shape"
      ],
      "metadata": {
        "colab": {
          "base_uri": "https://localhost:8080/"
        },
        "id": "J8LMm_gUd-zf",
        "outputId": "b0514387-5126-447d-9bdb-8ffc4e7d1214"
      },
      "execution_count": null,
      "outputs": [
        {
          "output_type": "execute_result",
          "data": {
            "text/plain": [
              "torch.Size([1, 28, 28])"
            ]
          },
          "metadata": {},
          "execution_count": 23
        }
      ]
    },
    {
      "cell_type": "markdown",
      "source": [
        "#.4.2.Horizontal Flip, Vertical Flip"
      ],
      "metadata": {
        "id": "lrI0Yw4Je7Gt"
      }
    },
    {
      "cell_type": "code",
      "source": [
        "trans = transforms.Compose([\n",
        "    transforms.RandomHorizontalFlip(),\n",
        "])"
      ],
      "metadata": {
        "id": "IkCzV1G7fFRm"
      },
      "execution_count": null,
      "outputs": []
    },
    {
      "cell_type": "code",
      "source": [
        "new_x_0 = trans(x_0)\n",
        "image = F.to_pil_image(new_x_0)\n",
        "plt.imshow(image, cmap = 'gray')"
      ],
      "metadata": {
        "colab": {
          "base_uri": "https://localhost:8080/",
          "height": 447
        },
        "id": "aQLA6SH-fRVE",
        "outputId": "197da096-755f-4f77-a1a8-18f17729f7a1"
      },
      "execution_count": null,
      "outputs": [
        {
          "output_type": "execute_result",
          "data": {
            "text/plain": [
              "<matplotlib.image.AxesImage at 0x7e22042d7010>"
            ]
          },
          "metadata": {},
          "execution_count": 25
        },
        {
          "output_type": "display_data",
          "data": {
            "text/plain": [
              "<Figure size 640x480 with 1 Axes>"
            ],
            "image/png": "[encoded data removed]"
          },
          "metadata": {}
        }
      ]
    },
    {
      "cell_type": "code",
      "source": [
        "trans = transforms.Compose([\n",
        "    transforms.RandomVerticalFlip(),\n",
        "])"
      ],
      "metadata": {
        "id": "C7y76ye8fh5P"
      },
      "execution_count": null,
      "outputs": []
    },
    {
      "cell_type": "code",
      "source": [
        "new_x_1 = trans(x_0)\n",
        "image = F.to_pil_image(new_x_1)\n",
        "plt.imshow(image, cmap = 'gray')"
      ],
      "metadata": {
        "colab": {
          "base_uri": "https://localhost:8080/",
          "height": 447
        },
        "id": "Z36L5Aylfrxf",
        "outputId": "8c94830e-b327-4dcd-fb2c-7f598562aff7"
      },
      "execution_count": null,
      "outputs": [
        {
          "output_type": "execute_result",
          "data": {
            "text/plain": [
              "<matplotlib.image.AxesImage at 0x7e21ddc34df0>"
            ]
          },
          "metadata": {},
          "execution_count": 27
        },
        {
          "output_type": "display_data",
          "data": {
            "text/plain": [
              "<Figure size 640x480 with 1 Axes>"
            ],
            "image/png": "[encoded data removed]"
          },
          "metadata": {}
        }
      ]
    },
    {
      "cell_type": "markdown",
      "source": [
        "#.4.3.RandomRotation"
      ],
      "metadata": {
        "id": "1Oguiw06hjqd"
      }
    },
    {
      "cell_type": "code",
      "source": [
        "trans = transforms.Compose([\n",
        "    transforms.RandomRotation(30),\n",
        "])"
      ],
      "metadata": {
        "id": "CEl8vnWohnbE"
      },
      "execution_count": null,
      "outputs": []
    },
    {
      "cell_type": "code",
      "source": [
        "new_x_2 = trans(x_0)\n",
        "image = F.to_pil_image(new_x_2)\n",
        "plt.imshow(image, cmap = 'gray')"
      ],
      "metadata": {
        "colab": {
          "base_uri": "https://localhost:8080/",
          "height": 447
        },
        "id": "aE1zw0EZh2cd",
        "outputId": "91f5d4f4-6b46-4686-ccfa-95a15df7a258"
      },
      "execution_count": null,
      "outputs": [
        {
          "output_type": "execute_result",
          "data": {
            "text/plain": [
              "<matplotlib.image.AxesImage at 0x7e21ddebe110>"
            ]
          },
          "metadata": {},
          "execution_count": 29
        },
        {
          "output_type": "display_data",
          "data": {
            "text/plain": [
              "<Figure size 640x480 with 1 Axes>"
            ],
            "image/png": "[encoded data removed]"
          },
          "metadata": {}
        }
      ]
    },
    {
      "cell_type": "markdown",
      "source": [
        "#.4.4.ColorJitter"
      ],
      "metadata": {
        "id": "8YggHwbfjXdP"
      }
    },
    {
      "cell_type": "code",
      "source": [
        "brightness = .5\n",
        "contrast = .5\n",
        "trans = transforms.Compose([\n",
        "    transforms.ColorJitter(brightness = brightness, contrast = contrast)\n",
        "])"
      ],
      "metadata": {
        "id": "HB1f3mTKjbiO"
      },
      "execution_count": null,
      "outputs": []
    },
    {
      "cell_type": "code",
      "source": [
        "new_x_3 = trans(x_0)\n",
        "image = F.to_pil_image(new_x_3)\n",
        "plt.imshow(image, cmap = 'gray')"
      ],
      "metadata": {
        "colab": {
          "base_uri": "https://localhost:8080/",
          "height": 447
        },
        "id": "7kcwjMgKjwO8",
        "outputId": "670bc130-7943-4de9-ca5f-f8172df43cf9"
      },
      "execution_count": null,
      "outputs": [
        {
          "output_type": "execute_result",
          "data": {
            "text/plain": [
              "<matplotlib.image.AxesImage at 0x7e21ddfb7af0>"
            ]
          },
          "metadata": {},
          "execution_count": 31
        },
        {
          "output_type": "display_data",
          "data": {
            "text/plain": [
              "<Figure size 640x480 with 1 Axes>"
            ],
            "image/png": "[encoded data removed]"
          },
          "metadata": {}
        }
      ]
    },
    {
      "cell_type": "markdown",
      "source": [
        "#.4.5.Combine everything together"
      ],
      "metadata": {
        "id": "ZAIQR8GjkHi1"
      }
    },
    {
      "cell_type": "code",
      "source": [
        "random_transforms = transforms.Compose([\n",
        "    transforms.RandomRotation(30),\n",
        "    transforms.RandomResizedCrop((IMG_WIDTH, IMG_HEIGHT), scale = (.7,1), ratio = (1,1)),\n",
        "    transforms.RandomHorizontalFlip(),\n",
        "    transforms.ColorJitter(brightness = .2, contrast = .5)\n",
        "])"
      ],
      "metadata": {
        "id": "GK0MBf9-kMV3"
      },
      "execution_count": null,
      "outputs": []
    },
    {
      "cell_type": "code",
      "source": [
        "new_img = random_transforms(x_0)\n",
        "image = F.to_pil_image(new_img)\n",
        "plt.imshow(image, cmap = 'gray')"
      ],
      "metadata": {
        "colab": {
          "base_uri": "https://localhost:8080/",
          "height": 447
        },
        "id": "7LGM3A88k0DH",
        "outputId": "b38c4926-7b76-421d-f9fc-ad407ccfd599"
      },
      "execution_count": null,
      "outputs": [
        {
          "output_type": "execute_result",
          "data": {
            "text/plain": [
              "<matplotlib.image.AxesImage at 0x7e21ddb59bd0>"
            ]
          },
          "metadata": {},
          "execution_count": 33
        },
        {
          "output_type": "display_data",
          "data": {
            "text/plain": [
              "<Figure size 640x480 with 1 Axes>"
            ],
            "image/png": "[encoded data removed]"
          },
          "metadata": {}
        }
      ]
    },
    {
      "cell_type": "code",
      "source": [
        "def get_batch_accuracy(output,y,N):\n",
        "  predict = output.argmax(dim = 1, keepdim = True)\n",
        "  correct = predict.eq(y.view_as(predict)).sum().item()\n",
        "  return correct/N"
      ],
      "metadata": {
        "id": "D7-lpoxnxZQx"
      },
      "execution_count": null,
      "outputs": []
    },
    {
      "cell_type": "markdown",
      "source": [
        "#5.Train Model and Valid Model with Augumentation"
      ],
      "metadata": {
        "id": "sU92lg8ElJCG"
      }
    },
    {
      "cell_type": "code",
      "source": [
        "def train():\n",
        "  loss = 0\n",
        "  accuracy = 0\n",
        "  for x,y in train_loader:\n",
        "    output = model(random_transforms(x))\n",
        "    optimizer.zero_grad()\n",
        "    batch_loss = loss_function(output, y)\n",
        "    batch_loss.backward()\n",
        "    optimizer.step()\n",
        "\n",
        "    loss += batch_loss.item()\n",
        "    accuracy += utils.get_batch_accuracy(output, y, train_N)\n",
        "  print('Train - Loss: {:.4f} Accuracy: {:.4f}'.format(loss,accuracy))"
      ],
      "metadata": {
        "id": "t4OYcuFblNrd"
      },
      "execution_count": null,
      "outputs": []
    },
    {
      "cell_type": "code",
      "source": [
        "def validate():\n",
        "  loss, accuracy = 0,0\n",
        "  model.eval()\n",
        "  with torch.no_grad():\n",
        "    for x,y in valid_loader:\n",
        "      output = model(x)\n",
        "\n",
        "      loss += loss_function(output,y).item()\n",
        "      accuracy += utils.get_batch_accuracy(output,y, valid_N)\n",
        "  print('Valid - Loss: {:.4f} Accuracy: {:.4f}'.format(loss, accuracy))"
      ],
      "metadata": {
        "id": "HMqn27i_mES_"
      },
      "execution_count": null,
      "outputs": []
    },
    {
      "cell_type": "code",
      "source": [
        "import torch._dynamo\n",
        "torch._dynamo.config.suppress_errors = True\n",
        "epochs = 10\n",
        "for epoch in range(epochs):\n",
        "  print('Epoch: {}'.format(epoch))\n",
        "  train()\n",
        "  validate()"
      ],
      "metadata": {
        "colab": {
          "base_uri": "https://localhost:8080/"
        },
        "id": "uPPrYv8Nmmuo",
        "outputId": "4bc4bb63-a32e-4ad0-894c-17b4030b1227"
      },
      "execution_count": null,
      "outputs": [
        {
          "output_type": "stream",
          "name": "stdout",
          "text": [
            "Epoch: 0\n"
          ]
        },
        {
          "output_type": "stream",
          "name": "stderr",
          "text": [
            "W0107 09:10:39.237000 1041 torch/_dynamo/convert_frame.py:1125] WON'T CONVERT inner /usr/local/lib/python3.10/dist-packages/torch/_dynamo/external_utils.py line 38 \n",
            "W0107 09:10:39.237000 1041 torch/_dynamo/convert_frame.py:1125] due to: \n",
            "W0107 09:10:39.237000 1041 torch/_dynamo/convert_frame.py:1125] Traceback (most recent call last):\n",
            "W0107 09:10:39.237000 1041 torch/_dynamo/convert_frame.py:1125]   File \"/usr/local/lib/python3.10/dist-packages/torch/_dynamo/output_graph.py\", line 1446, in _call_user_compiler\n",
            "W0107 09:10:39.237000 1041 torch/_dynamo/convert_frame.py:1125]     compiled_fn = compiler_fn(gm, self.example_inputs())\n",
            "W0107 09:10:39.237000 1041 torch/_dynamo/convert_frame.py:1125]   File \"/usr/local/lib/python3.10/dist-packages/torch/_dynamo/repro/after_dynamo.py\", line 129, in __call__\n",
            "W0107 09:10:39.237000 1041 torch/_dynamo/convert_frame.py:1125]     compiled_gm = compiler_fn(gm, example_inputs)\n",
            "W0107 09:10:39.237000 1041 torch/_dynamo/convert_frame.py:1125]   File \"/usr/local/lib/python3.10/dist-packages/torch/__init__.py\", line 2234, in __call__\n",
            "W0107 09:10:39.237000 1041 torch/_dynamo/convert_frame.py:1125]     return compile_fx(model_, inputs_, config_patches=self.config)\n",
            "W0107 09:10:39.237000 1041 torch/_dynamo/convert_frame.py:1125]   File \"/usr/local/lib/python3.10/dist-packages/torch/_inductor/compile_fx.py\", line 1521, in compile_fx\n",
            "W0107 09:10:39.237000 1041 torch/_dynamo/convert_frame.py:1125]     return aot_autograd(\n",
            "W0107 09:10:39.237000 1041 torch/_dynamo/convert_frame.py:1125]   File \"/usr/local/lib/python3.10/dist-packages/torch/_dynamo/backends/common.py\", line 72, in __call__\n",
            "W0107 09:10:39.237000 1041 torch/_dynamo/convert_frame.py:1125]     cg = aot_module_simplified(gm, example_inputs, **self.kwargs)\n",
            "W0107 09:10:39.237000 1041 torch/_dynamo/convert_frame.py:1125]   File \"/usr/local/lib/python3.10/dist-packages/torch/_functorch/aot_autograd.py\", line 1071, in aot_module_simplified\n",
            "W0107 09:10:39.237000 1041 torch/_dynamo/convert_frame.py:1125]     compiled_fn = dispatch_and_compile()\n",
            "W0107 09:10:39.237000 1041 torch/_dynamo/convert_frame.py:1125]   File \"/usr/local/lib/python3.10/dist-packages/torch/_functorch/aot_autograd.py\", line 1056, in dispatch_and_compile\n",
            "W0107 09:10:39.237000 1041 torch/_dynamo/convert_frame.py:1125]     compiled_fn, _ = create_aot_dispatcher_function(\n",
            "W0107 09:10:39.237000 1041 torch/_dynamo/convert_frame.py:1125]   File \"/usr/local/lib/python3.10/dist-packages/torch/_functorch/aot_autograd.py\", line 522, in create_aot_dispatcher_function\n",
            "W0107 09:10:39.237000 1041 torch/_dynamo/convert_frame.py:1125]     return _create_aot_dispatcher_function(\n",
            "W0107 09:10:39.237000 1041 torch/_dynamo/convert_frame.py:1125]   File \"/usr/local/lib/python3.10/dist-packages/torch/_functorch/aot_autograd.py\", line 759, in _create_aot_dispatcher_function\n",
            "W0107 09:10:39.237000 1041 torch/_dynamo/convert_frame.py:1125]     compiled_fn, fw_metadata = compiler_fn(\n",
            "W0107 09:10:39.237000 1041 torch/_dynamo/convert_frame.py:1125]   File \"/usr/local/lib/python3.10/dist-packages/torch/_functorch/_aot_autograd/jit_compile_runtime_wrappers.py\", line 588, in aot_dispatch_autograd\n",
            "W0107 09:10:39.237000 1041 torch/_dynamo/convert_frame.py:1125]     compiled_fw_func = aot_config.fw_compiler(fw_module, adjusted_flat_args)\n",
            "W0107 09:10:39.237000 1041 torch/_dynamo/convert_frame.py:1125]   File \"/usr/local/lib/python3.10/dist-packages/torch/_inductor/compile_fx.py\", line 1350, in fw_compiler_base\n",
            "W0107 09:10:39.237000 1041 torch/_dynamo/convert_frame.py:1125]     return _fw_compiler_base(model, example_inputs, is_inference)\n",
            "W0107 09:10:39.237000 1041 torch/_dynamo/convert_frame.py:1125]   File \"/usr/local/lib/python3.10/dist-packages/torch/_inductor/compile_fx.py\", line 1421, in _fw_compiler_base\n",
            "W0107 09:10:39.237000 1041 torch/_dynamo/convert_frame.py:1125]     return inner_compile(\n",
            "W0107 09:10:39.237000 1041 torch/_dynamo/convert_frame.py:1125]   File \"/usr/local/lib/python3.10/dist-packages/torch/_inductor/compile_fx.py\", line 475, in compile_fx_inner\n",
            "W0107 09:10:39.237000 1041 torch/_dynamo/convert_frame.py:1125]     return wrap_compiler_debug(_compile_fx_inner, compiler_name=\"inductor\")(\n",
            "W0107 09:10:39.237000 1041 torch/_dynamo/convert_frame.py:1125]   File \"/usr/local/lib/python3.10/dist-packages/torch/_dynamo/repro/after_aot.py\", line 85, in debug_wrapper\n",
            "W0107 09:10:39.237000 1041 torch/_dynamo/convert_frame.py:1125]     inner_compiled_fn = compiler_fn(gm, example_inputs)\n",
            "W0107 09:10:39.237000 1041 torch/_dynamo/convert_frame.py:1125]   File \"/usr/local/lib/python3.10/dist-packages/torch/_inductor/compile_fx.py\", line 661, in _compile_fx_inner\n",
            "W0107 09:10:39.237000 1041 torch/_dynamo/convert_frame.py:1125]     compiled_graph = FxGraphCache.load(\n",
            "W0107 09:10:39.237000 1041 torch/_dynamo/convert_frame.py:1125]   File \"/usr/local/lib/python3.10/dist-packages/torch/_inductor/codecache.py\", line 1334, in load\n",
            "W0107 09:10:39.237000 1041 torch/_dynamo/convert_frame.py:1125]     compiled_graph = compile_fx_fn(\n",
            "W0107 09:10:39.237000 1041 torch/_dynamo/convert_frame.py:1125]   File \"/usr/local/lib/python3.10/dist-packages/torch/_inductor/compile_fx.py\", line 570, in codegen_and_compile\n",
            "W0107 09:10:39.237000 1041 torch/_dynamo/convert_frame.py:1125]     compiled_graph = fx_codegen_and_compile(gm, example_inputs, **fx_kwargs)\n",
            "W0107 09:10:39.237000 1041 torch/_dynamo/convert_frame.py:1125]   File \"/usr/local/lib/python3.10/dist-packages/torch/_inductor/compile_fx.py\", line 878, in fx_codegen_and_compile\n",
            "W0107 09:10:39.237000 1041 torch/_dynamo/convert_frame.py:1125]     compiled_fn = graph.compile_to_fn()\n",
            "W0107 09:10:39.237000 1041 torch/_dynamo/convert_frame.py:1125]   File \"/usr/local/lib/python3.10/dist-packages/torch/_inductor/graph.py\", line 1913, in compile_to_fn\n",
            "W0107 09:10:39.237000 1041 torch/_dynamo/convert_frame.py:1125]     return self.compile_to_module().call\n",
            "W0107 09:10:39.237000 1041 torch/_dynamo/convert_frame.py:1125]   File \"/usr/local/lib/python3.10/dist-packages/torch/_inductor/graph.py\", line 1839, in compile_to_module\n",
            "W0107 09:10:39.237000 1041 torch/_dynamo/convert_frame.py:1125]     return self._compile_to_module()\n",
            "W0107 09:10:39.237000 1041 torch/_dynamo/convert_frame.py:1125]   File \"/usr/local/lib/python3.10/dist-packages/torch/_inductor/graph.py\", line 1845, in _compile_to_module\n",
            "W0107 09:10:39.237000 1041 torch/_dynamo/convert_frame.py:1125]     self.codegen_with_cpp_wrapper() if self.cpp_wrapper else self.codegen()\n",
            "W0107 09:10:39.237000 1041 torch/_dynamo/convert_frame.py:1125]   File \"/usr/local/lib/python3.10/dist-packages/torch/_inductor/graph.py\", line 1780, in codegen\n",
            "W0107 09:10:39.237000 1041 torch/_dynamo/convert_frame.py:1125]     self.scheduler = Scheduler(self.operations)\n",
            "W0107 09:10:39.237000 1041 torch/_dynamo/convert_frame.py:1125]   File \"/usr/local/lib/python3.10/dist-packages/torch/_inductor/scheduler.py\", line 1731, in __init__\n",
            "W0107 09:10:39.237000 1041 torch/_dynamo/convert_frame.py:1125]     self._init(nodes)\n",
            "W0107 09:10:39.237000 1041 torch/_dynamo/convert_frame.py:1125]   File \"/usr/local/lib/python3.10/dist-packages/torch/_inductor/scheduler.py\", line 1749, in _init\n",
            "W0107 09:10:39.237000 1041 torch/_dynamo/convert_frame.py:1125]     self.nodes = [self.create_scheduler_node(n) for n in nodes]\n",
            "W0107 09:10:39.237000 1041 torch/_dynamo/convert_frame.py:1125]   File \"/usr/local/lib/python3.10/dist-packages/torch/_inductor/scheduler.py\", line 1749, in <listcomp>\n",
            "W0107 09:10:39.237000 1041 torch/_dynamo/convert_frame.py:1125]     self.nodes = [self.create_scheduler_node(n) for n in nodes]\n",
            "W0107 09:10:39.237000 1041 torch/_dynamo/convert_frame.py:1125]   File \"/usr/local/lib/python3.10/dist-packages/torch/_inductor/scheduler.py\", line 1856, in create_scheduler_node\n",
            "W0107 09:10:39.237000 1041 torch/_dynamo/convert_frame.py:1125]     return SchedulerNode(self, node)\n",
            "W0107 09:10:39.237000 1041 torch/_dynamo/convert_frame.py:1125]   File \"/usr/local/lib/python3.10/dist-packages/torch/_inductor/scheduler.py\", line 833, in __init__\n",
            "W0107 09:10:39.237000 1041 torch/_dynamo/convert_frame.py:1125]     self._compute_attrs()\n",
            "W0107 09:10:39.237000 1041 torch/_dynamo/convert_frame.py:1125]   File \"/usr/local/lib/python3.10/dist-packages/torch/_inductor/scheduler.py\", line 846, in _compute_attrs\n",
            "W0107 09:10:39.237000 1041 torch/_dynamo/convert_frame.py:1125]     group_fn = self.scheduler.get_backend(self.node.get_device()).group_fn\n",
            "W0107 09:10:39.237000 1041 torch/_dynamo/convert_frame.py:1125]   File \"/usr/local/lib/python3.10/dist-packages/torch/_inductor/scheduler.py\", line 3360, in get_backend\n",
            "W0107 09:10:39.237000 1041 torch/_dynamo/convert_frame.py:1125]     self.backends[device] = self.create_backend(device)\n",
            "W0107 09:10:39.237000 1041 torch/_dynamo/convert_frame.py:1125]   File \"/usr/local/lib/python3.10/dist-packages/torch/_inductor/scheduler.py\", line 3352, in create_backend\n",
            "W0107 09:10:39.237000 1041 torch/_dynamo/convert_frame.py:1125]     raise RuntimeError(\n",
            "W0107 09:10:39.237000 1041 torch/_dynamo/convert_frame.py:1125] RuntimeError: Cannot find a working triton installation. Either the package is not installed or it is too old. More information on installing Triton can be found at https://github.com/openai/triton\n",
            "W0107 09:10:39.237000 1041 torch/_dynamo/convert_frame.py:1125] \n",
            "W0107 09:10:39.237000 1041 torch/_dynamo/convert_frame.py:1125] The above exception was the direct cause of the following exception:\n",
            "W0107 09:10:39.237000 1041 torch/_dynamo/convert_frame.py:1125] \n",
            "W0107 09:10:39.237000 1041 torch/_dynamo/convert_frame.py:1125] Traceback (most recent call last):\n",
            "W0107 09:10:39.237000 1041 torch/_dynamo/convert_frame.py:1125]   File \"/usr/local/lib/python3.10/dist-packages/torch/_dynamo/convert_frame.py\", line 1064, in __call__\n",
            "W0107 09:10:39.237000 1041 torch/_dynamo/convert_frame.py:1125]     result = self._inner_convert(\n",
            "W0107 09:10:39.237000 1041 torch/_dynamo/convert_frame.py:1125]   File \"/usr/local/lib/python3.10/dist-packages/torch/_dynamo/convert_frame.py\", line 526, in __call__\n",
            "W0107 09:10:39.237000 1041 torch/_dynamo/convert_frame.py:1125]     return _compile(\n",
            "W0107 09:10:39.237000 1041 torch/_dynamo/convert_frame.py:1125]   File \"/usr/local/lib/python3.10/dist-packages/torch/_dynamo/convert_frame.py\", line 924, in _compile\n",
            "W0107 09:10:39.237000 1041 torch/_dynamo/convert_frame.py:1125]     guarded_code = compile_inner(code, one_graph, hooks, transform)\n",
            "W0107 09:10:39.237000 1041 torch/_dynamo/convert_frame.py:1125]   File \"/usr/local/lib/python3.10/dist-packages/torch/_dynamo/convert_frame.py\", line 666, in compile_inner\n",
            "W0107 09:10:39.237000 1041 torch/_dynamo/convert_frame.py:1125]     return _compile_inner(code, one_graph, hooks, transform)\n",
            "W0107 09:10:39.237000 1041 torch/_dynamo/convert_frame.py:1125]   File \"/usr/local/lib/python3.10/dist-packages/torch/_utils_internal.py\", line 87, in wrapper_function\n",
            "W0107 09:10:39.237000 1041 torch/_dynamo/convert_frame.py:1125]     return function(*args, **kwargs)\n",
            "W0107 09:10:39.237000 1041 torch/_dynamo/convert_frame.py:1125]   File \"/usr/local/lib/python3.10/dist-packages/torch/_dynamo/convert_frame.py\", line 699, in _compile_inner\n",
            "W0107 09:10:39.237000 1041 torch/_dynamo/convert_frame.py:1125]     out_code = transform_code_object(code, transform)\n",
            "W0107 09:10:39.237000 1041 torch/_dynamo/convert_frame.py:1125]   File \"/usr/local/lib/python3.10/dist-packages/torch/_dynamo/bytecode_transformation.py\", line 1322, in transform_code_object\n",
            "W0107 09:10:39.237000 1041 torch/_dynamo/convert_frame.py:1125]     transformations(instructions, code_options)\n",
            "W0107 09:10:39.237000 1041 torch/_dynamo/convert_frame.py:1125]   File \"/usr/local/lib/python3.10/dist-packages/torch/_dynamo/convert_frame.py\", line 219, in _fn\n",
            "W0107 09:10:39.237000 1041 torch/_dynamo/convert_frame.py:1125]     return fn(*args, **kwargs)\n",
            "W0107 09:10:39.237000 1041 torch/_dynamo/convert_frame.py:1125]   File \"/usr/local/lib/python3.10/dist-packages/torch/_dynamo/convert_frame.py\", line 634, in transform\n",
            "W0107 09:10:39.237000 1041 torch/_dynamo/convert_frame.py:1125]     tracer.run()\n",
            "W0107 09:10:39.237000 1041 torch/_dynamo/convert_frame.py:1125]   File \"/usr/local/lib/python3.10/dist-packages/torch/_dynamo/symbolic_convert.py\", line 2796, in run\n",
            "W0107 09:10:39.237000 1041 torch/_dynamo/convert_frame.py:1125]     super().run()\n",
            "W0107 09:10:39.237000 1041 torch/_dynamo/convert_frame.py:1125]   File \"/usr/local/lib/python3.10/dist-packages/torch/_dynamo/symbolic_convert.py\", line 983, in run\n",
            "W0107 09:10:39.237000 1041 torch/_dynamo/convert_frame.py:1125]     while self.step():\n",
            "W0107 09:10:39.237000 1041 torch/_dynamo/convert_frame.py:1125]   File \"/usr/local/lib/python3.10/dist-packages/torch/_dynamo/symbolic_convert.py\", line 895, in step\n",
            "W0107 09:10:39.237000 1041 torch/_dynamo/convert_frame.py:1125]     self.dispatch_table[inst.opcode](self, inst)\n",
            "W0107 09:10:39.237000 1041 torch/_dynamo/convert_frame.py:1125]   File \"/usr/local/lib/python3.10/dist-packages/torch/_dynamo/symbolic_convert.py\", line 2987, in RETURN_VALUE\n",
            "W0107 09:10:39.237000 1041 torch/_dynamo/convert_frame.py:1125]     self._return(inst)\n",
            "W0107 09:10:39.237000 1041 torch/_dynamo/convert_frame.py:1125]   File \"/usr/local/lib/python3.10/dist-packages/torch/_dynamo/symbolic_convert.py\", line 2972, in _return\n",
            "W0107 09:10:39.237000 1041 torch/_dynamo/convert_frame.py:1125]     self.output.compile_subgraph(\n",
            "W0107 09:10:39.237000 1041 torch/_dynamo/convert_frame.py:1125]   File \"/usr/local/lib/python3.10/dist-packages/torch/_dynamo/output_graph.py\", line 1117, in compile_subgraph\n",
            "W0107 09:10:39.237000 1041 torch/_dynamo/convert_frame.py:1125]     self.compile_and_call_fx_graph(tx, list(reversed(stack_values)), root)\n",
            "W0107 09:10:39.237000 1041 torch/_dynamo/convert_frame.py:1125]   File \"/usr/local/lib/python3.10/dist-packages/torch/_dynamo/output_graph.py\", line 1369, in compile_and_call_fx_graph\n",
            "W0107 09:10:39.237000 1041 torch/_dynamo/convert_frame.py:1125]     compiled_fn = self.call_user_compiler(gm)\n",
            "W0107 09:10:39.237000 1041 torch/_dynamo/convert_frame.py:1125]   File \"/usr/local/lib/python3.10/dist-packages/torch/_dynamo/output_graph.py\", line 1416, in call_user_compiler\n",
            "W0107 09:10:39.237000 1041 torch/_dynamo/convert_frame.py:1125]     return self._call_user_compiler(gm)\n",
            "W0107 09:10:39.237000 1041 torch/_dynamo/convert_frame.py:1125]   File \"/usr/local/lib/python3.10/dist-packages/torch/_dynamo/output_graph.py\", line 1465, in _call_user_compiler\n",
            "W0107 09:10:39.237000 1041 torch/_dynamo/convert_frame.py:1125]     raise BackendCompilerFailed(self.compiler_fn, e) from e\n",
            "W0107 09:10:39.237000 1041 torch/_dynamo/convert_frame.py:1125] torch._dynamo.exc.BackendCompilerFailed: backend='inductor' raised:\n",
            "W0107 09:10:39.237000 1041 torch/_dynamo/convert_frame.py:1125] RuntimeError: Cannot find a working triton installation. Either the package is not installed or it is too old. More information on installing Triton can be found at https://github.com/openai/triton\n",
            "W0107 09:10:39.237000 1041 torch/_dynamo/convert_frame.py:1125] \n",
            "W0107 09:10:39.237000 1041 torch/_dynamo/convert_frame.py:1125] Set TORCH_LOGS=\"+dynamo\" and TORCHDYNAMO_VERBOSE=1 for more information\n",
            "W0107 09:10:39.237000 1041 torch/_dynamo/convert_frame.py:1125] \n",
            "W0107 09:10:39.237000 1041 torch/_dynamo/convert_frame.py:1125] Traceback (most recent call last):\n",
            "W0107 09:10:39.237000 1041 torch/_dynamo/convert_frame.py:1125]   File \"/usr/local/lib/python3.10/dist-packages/torch/_dynamo/output_graph.py\", line 1446, in _call_user_compiler\n",
            "W0107 09:10:39.237000 1041 torch/_dynamo/convert_frame.py:1125]     compiled_fn = compiler_fn(gm, self.example_inputs())\n",
            "W0107 09:10:39.237000 1041 torch/_dynamo/convert_frame.py:1125]   File \"/usr/local/lib/python3.10/dist-packages/torch/_dynamo/repro/after_dynamo.py\", line 129, in __call__\n",
            "W0107 09:10:39.237000 1041 torch/_dynamo/convert_frame.py:1125]     compiled_gm = compiler_fn(gm, example_inputs)\n",
            "W0107 09:10:39.237000 1041 torch/_dynamo/convert_frame.py:1125]   File \"/usr/local/lib/python3.10/dist-packages/torch/__init__.py\", line 2234, in __call__\n",
            "W0107 09:10:39.237000 1041 torch/_dynamo/convert_frame.py:1125]     return compile_fx(model_, inputs_, config_patches=self.config)\n",
            "W0107 09:10:39.237000 1041 torch/_dynamo/convert_frame.py:1125]   File \"/usr/local/lib/python3.10/dist-packages/torch/_inductor/compile_fx.py\", line 1521, in compile_fx\n",
            "W0107 09:10:39.237000 1041 torch/_dynamo/convert_frame.py:1125]     return aot_autograd(\n",
            "W0107 09:10:39.237000 1041 torch/_dynamo/convert_frame.py:1125]   File \"/usr/local/lib/python3.10/dist-packages/torch/_dynamo/backends/common.py\", line 72, in __call__\n",
            "W0107 09:10:39.237000 1041 torch/_dynamo/convert_frame.py:1125]     cg = aot_module_simplified(gm, example_inputs, **self.kwargs)\n",
            "W0107 09:10:39.237000 1041 torch/_dynamo/convert_frame.py:1125]   File \"/usr/local/lib/python3.10/dist-packages/torch/_functorch/aot_autograd.py\", line 1071, in aot_module_simplified\n",
            "W0107 09:10:39.237000 1041 torch/_dynamo/convert_frame.py:1125]     compiled_fn = dispatch_and_compile()\n",
            "W0107 09:10:39.237000 1041 torch/_dynamo/convert_frame.py:1125]   File \"/usr/local/lib/python3.10/dist-packages/torch/_functorch/aot_autograd.py\", line 1056, in dispatch_and_compile\n",
            "W0107 09:10:39.237000 1041 torch/_dynamo/convert_frame.py:1125]     compiled_fn, _ = create_aot_dispatcher_function(\n",
            "W0107 09:10:39.237000 1041 torch/_dynamo/convert_frame.py:1125]   File \"/usr/local/lib/python3.10/dist-packages/torch/_functorch/aot_autograd.py\", line 522, in create_aot_dispatcher_function\n",
            "W0107 09:10:39.237000 1041 torch/_dynamo/convert_frame.py:1125]     return _create_aot_dispatcher_function(\n",
            "W0107 09:10:39.237000 1041 torch/_dynamo/convert_frame.py:1125]   File \"/usr/local/lib/python3.10/dist-packages/torch/_functorch/aot_autograd.py\", line 759, in _create_aot_dispatcher_function\n",
            "W0107 09:10:39.237000 1041 torch/_dynamo/convert_frame.py:1125]     compiled_fn, fw_metadata = compiler_fn(\n",
            "W0107 09:10:39.237000 1041 torch/_dynamo/convert_frame.py:1125]   File \"/usr/local/lib/python3.10/dist-packages/torch/_functorch/_aot_autograd/jit_compile_runtime_wrappers.py\", line 588, in aot_dispatch_autograd\n",
            "W0107 09:10:39.237000 1041 torch/_dynamo/convert_frame.py:1125]     compiled_fw_func = aot_config.fw_compiler(fw_module, adjusted_flat_args)\n",
            "W0107 09:10:39.237000 1041 torch/_dynamo/convert_frame.py:1125]   File \"/usr/local/lib/python3.10/dist-packages/torch/_inductor/compile_fx.py\", line 1350, in fw_compiler_base\n",
            "W0107 09:10:39.237000 1041 torch/_dynamo/convert_frame.py:1125]     return _fw_compiler_base(model, example_inputs, is_inference)\n",
            "W0107 09:10:39.237000 1041 torch/_dynamo/convert_frame.py:1125]   File \"/usr/local/lib/python3.10/dist-packages/torch/_inductor/compile_fx.py\", line 1421, in _fw_compiler_base\n",
            "W0107 09:10:39.237000 1041 torch/_dynamo/convert_frame.py:1125]     return inner_compile(\n",
            "W0107 09:10:39.237000 1041 torch/_dynamo/convert_frame.py:1125]   File \"/usr/local/lib/python3.10/dist-packages/torch/_inductor/compile_fx.py\", line 475, in compile_fx_inner\n",
            "W0107 09:10:39.237000 1041 torch/_dynamo/convert_frame.py:1125]     return wrap_compiler_debug(_compile_fx_inner, compiler_name=\"inductor\")(\n",
            "W0107 09:10:39.237000 1041 torch/_dynamo/convert_frame.py:1125]   File \"/usr/local/lib/python3.10/dist-packages/torch/_dynamo/repro/after_aot.py\", line 85, in debug_wrapper\n",
            "W0107 09:10:39.237000 1041 torch/_dynamo/convert_frame.py:1125]     inner_compiled_fn = compiler_fn(gm, example_inputs)\n",
            "W0107 09:10:39.237000 1041 torch/_dynamo/convert_frame.py:1125]   File \"/usr/local/lib/python3.10/dist-packages/torch/_inductor/compile_fx.py\", line 661, in _compile_fx_inner\n",
            "W0107 09:10:39.237000 1041 torch/_dynamo/convert_frame.py:1125]     compiled_graph = FxGraphCache.load(\n",
            "W0107 09:10:39.237000 1041 torch/_dynamo/convert_frame.py:1125]   File \"/usr/local/lib/python3.10/dist-packages/torch/_inductor/codecache.py\", line 1334, in load\n",
            "W0107 09:10:39.237000 1041 torch/_dynamo/convert_frame.py:1125]     compiled_graph = compile_fx_fn(\n",
            "W0107 09:10:39.237000 1041 torch/_dynamo/convert_frame.py:1125]   File \"/usr/local/lib/python3.10/dist-packages/torch/_inductor/compile_fx.py\", line 570, in codegen_and_compile\n",
            "W0107 09:10:39.237000 1041 torch/_dynamo/convert_frame.py:1125]     compiled_graph = fx_codegen_and_compile(gm, example_inputs, **fx_kwargs)\n",
            "W0107 09:10:39.237000 1041 torch/_dynamo/convert_frame.py:1125]   File \"/usr/local/lib/python3.10/dist-packages/torch/_inductor/compile_fx.py\", line 878, in fx_codegen_and_compile\n",
            "W0107 09:10:39.237000 1041 torch/_dynamo/convert_frame.py:1125]     compiled_fn = graph.compile_to_fn()\n",
            "W0107 09:10:39.237000 1041 torch/_dynamo/convert_frame.py:1125]   File \"/usr/local/lib/python3.10/dist-packages/torch/_inductor/graph.py\", line 1913, in compile_to_fn\n",
            "W0107 09:10:39.237000 1041 torch/_dynamo/convert_frame.py:1125]     return self.compile_to_module().call\n",
            "W0107 09:10:39.237000 1041 torch/_dynamo/convert_frame.py:1125]   File \"/usr/local/lib/python3.10/dist-packages/torch/_inductor/graph.py\", line 1839, in compile_to_module\n",
            "W0107 09:10:39.237000 1041 torch/_dynamo/convert_frame.py:1125]     return self._compile_to_module()\n",
            "W0107 09:10:39.237000 1041 torch/_dynamo/convert_frame.py:1125]   File \"/usr/local/lib/python3.10/dist-packages/torch/_inductor/graph.py\", line 1845, in _compile_to_module\n",
            "W0107 09:10:39.237000 1041 torch/_dynamo/convert_frame.py:1125]     self.codegen_with_cpp_wrapper() if self.cpp_wrapper else self.codegen()\n",
            "W0107 09:10:39.237000 1041 torch/_dynamo/convert_frame.py:1125]   File \"/usr/local/lib/python3.10/dist-packages/torch/_inductor/graph.py\", line 1780, in codegen\n",
            "W0107 09:10:39.237000 1041 torch/_dynamo/convert_frame.py:1125]     self.scheduler = Scheduler(self.operations)\n",
            "W0107 09:10:39.237000 1041 torch/_dynamo/convert_frame.py:1125]   File \"/usr/local/lib/python3.10/dist-packages/torch/_inductor/scheduler.py\", line 1731, in __init__\n",
            "W0107 09:10:39.237000 1041 torch/_dynamo/convert_frame.py:1125]     self._init(nodes)\n",
            "W0107 09:10:39.237000 1041 torch/_dynamo/convert_frame.py:1125]   File \"/usr/local/lib/python3.10/dist-packages/torch/_inductor/scheduler.py\", line 1749, in _init\n",
            "W0107 09:10:39.237000 1041 torch/_dynamo/convert_frame.py:1125]     self.nodes = [self.create_scheduler_node(n) for n in nodes]\n",
            "W0107 09:10:39.237000 1041 torch/_dynamo/convert_frame.py:1125]   File \"/usr/local/lib/python3.10/dist-packages/torch/_inductor/scheduler.py\", line 1749, in <listcomp>\n",
            "W0107 09:10:39.237000 1041 torch/_dynamo/convert_frame.py:1125]     self.nodes = [self.create_scheduler_node(n) for n in nodes]\n",
            "W0107 09:10:39.237000 1041 torch/_dynamo/convert_frame.py:1125]   File \"/usr/local/lib/python3.10/dist-packages/torch/_inductor/scheduler.py\", line 1856, in create_scheduler_node\n",
            "W0107 09:10:39.237000 1041 torch/_dynamo/convert_frame.py:1125]     return SchedulerNode(self, node)\n",
            "W0107 09:10:39.237000 1041 torch/_dynamo/convert_frame.py:1125]   File \"/usr/local/lib/python3.10/dist-packages/torch/_inductor/scheduler.py\", line 833, in __init__\n",
            "W0107 09:10:39.237000 1041 torch/_dynamo/convert_frame.py:1125]     self._compute_attrs()\n",
            "W0107 09:10:39.237000 1041 torch/_dynamo/convert_frame.py:1125]   File \"/usr/local/lib/python3.10/dist-packages/torch/_inductor/scheduler.py\", line 846, in _compute_attrs\n",
            "W0107 09:10:39.237000 1041 torch/_dynamo/convert_frame.py:1125]     group_fn = self.scheduler.get_backend(self.node.get_device()).group_fn\n",
            "W0107 09:10:39.237000 1041 torch/_dynamo/convert_frame.py:1125]   File \"/usr/local/lib/python3.10/dist-packages/torch/_inductor/scheduler.py\", line 3360, in get_backend\n",
            "W0107 09:10:39.237000 1041 torch/_dynamo/convert_frame.py:1125]     self.backends[device] = self.create_backend(device)\n",
            "W0107 09:10:39.237000 1041 torch/_dynamo/convert_frame.py:1125]   File \"/usr/local/lib/python3.10/dist-packages/torch/_inductor/scheduler.py\", line 3352, in create_backend\n",
            "W0107 09:10:39.237000 1041 torch/_dynamo/convert_frame.py:1125]     raise RuntimeError(\n",
            "W0107 09:10:39.237000 1041 torch/_dynamo/convert_frame.py:1125] RuntimeError: Cannot find a working triton installation. Either the package is not installed or it is too old. More information on installing Triton can be found at https://github.com/openai/triton\n",
            "W0107 09:10:39.237000 1041 torch/_dynamo/convert_frame.py:1125] \n",
            "W0107 09:10:39.237000 1041 torch/_dynamo/convert_frame.py:1125] The above exception was the direct cause of the following exception:\n",
            "W0107 09:10:39.237000 1041 torch/_dynamo/convert_frame.py:1125] \n",
            "W0107 09:10:39.237000 1041 torch/_dynamo/convert_frame.py:1125] Traceback (most recent call last):\n",
            "W0107 09:10:39.237000 1041 torch/_dynamo/convert_frame.py:1125]   File \"/usr/local/lib/python3.10/dist-packages/torch/_dynamo/convert_frame.py\", line 1064, in __call__\n",
            "W0107 09:10:39.237000 1041 torch/_dynamo/convert_frame.py:1125]     result = self._inner_convert(\n",
            "W0107 09:10:39.237000 1041 torch/_dynamo/convert_frame.py:1125]   File \"/usr/local/lib/python3.10/dist-packages/torch/_dynamo/convert_frame.py\", line 526, in __call__\n",
            "W0107 09:10:39.237000 1041 torch/_dynamo/convert_frame.py:1125]     return _compile(\n",
            "W0107 09:10:39.237000 1041 torch/_dynamo/convert_frame.py:1125]   File \"/usr/local/lib/python3.10/dist-packages/torch/_dynamo/convert_frame.py\", line 924, in _compile\n",
            "W0107 09:10:39.237000 1041 torch/_dynamo/convert_frame.py:1125]     guarded_code = compile_inner(code, one_graph, hooks, transform)\n",
            "W0107 09:10:39.237000 1041 torch/_dynamo/convert_frame.py:1125]   File \"/usr/local/lib/python3.10/dist-packages/torch/_dynamo/convert_frame.py\", line 666, in compile_inner\n",
            "W0107 09:10:39.237000 1041 torch/_dynamo/convert_frame.py:1125]     return _compile_inner(code, one_graph, hooks, transform)\n",
            "W0107 09:10:39.237000 1041 torch/_dynamo/convert_frame.py:1125]   File \"/usr/local/lib/python3.10/dist-packages/torch/_utils_internal.py\", line 87, in wrapper_function\n",
            "W0107 09:10:39.237000 1041 torch/_dynamo/convert_frame.py:1125]     return function(*args, **kwargs)\n",
            "W0107 09:10:39.237000 1041 torch/_dynamo/convert_frame.py:1125]   File \"/usr/local/lib/python3.10/dist-packages/torch/_dynamo/convert_frame.py\", line 699, in _compile_inner\n",
            "W0107 09:10:39.237000 1041 torch/_dynamo/convert_frame.py:1125]     out_code = transform_code_object(code, transform)\n",
            "W0107 09:10:39.237000 1041 torch/_dynamo/convert_frame.py:1125]   File \"/usr/local/lib/python3.10/dist-packages/torch/_dynamo/bytecode_transformation.py\", line 1322, in transform_code_object\n",
            "W0107 09:10:39.237000 1041 torch/_dynamo/convert_frame.py:1125]     transformations(instructions, code_options)\n",
            "W0107 09:10:39.237000 1041 torch/_dynamo/convert_frame.py:1125]   File \"/usr/local/lib/python3.10/dist-packages/torch/_dynamo/convert_frame.py\", line 219, in _fn\n",
            "W0107 09:10:39.237000 1041 torch/_dynamo/convert_frame.py:1125]     return fn(*args, **kwargs)\n",
            "W0107 09:10:39.237000 1041 torch/_dynamo/convert_frame.py:1125]   File \"/usr/local/lib/python3.10/dist-packages/torch/_dynamo/convert_frame.py\", line 634, in transform\n",
            "W0107 09:10:39.237000 1041 torch/_dynamo/convert_frame.py:1125]     tracer.run()\n",
            "W0107 09:10:39.237000 1041 torch/_dynamo/convert_frame.py:1125]   File \"/usr/local/lib/python3.10/dist-packages/torch/_dynamo/symbolic_convert.py\", line 2796, in run\n",
            "W0107 09:10:39.237000 1041 torch/_dynamo/convert_frame.py:1125]     super().run()\n",
            "W0107 09:10:39.237000 1041 torch/_dynamo/convert_frame.py:1125]   File \"/usr/local/lib/python3.10/dist-packages/torch/_dynamo/symbolic_convert.py\", line 983, in run\n",
            "W0107 09:10:39.237000 1041 torch/_dynamo/convert_frame.py:1125]     while self.step():\n",
            "W0107 09:10:39.237000 1041 torch/_dynamo/convert_frame.py:1125]   File \"/usr/local/lib/python3.10/dist-packages/torch/_dynamo/symbolic_convert.py\", line 895, in step\n",
            "W0107 09:10:39.237000 1041 torch/_dynamo/convert_frame.py:1125]     self.dispatch_table[inst.opcode](self, inst)\n",
            "W0107 09:10:39.237000 1041 torch/_dynamo/convert_frame.py:1125]   File \"/usr/local/lib/python3.10/dist-packages/torch/_dynamo/symbolic_convert.py\", line 2987, in RETURN_VALUE\n",
            "W0107 09:10:39.237000 1041 torch/_dynamo/convert_frame.py:1125]     self._return(inst)\n",
            "W0107 09:10:39.237000 1041 torch/_dynamo/convert_frame.py:1125]   File \"/usr/local/lib/python3.10/dist-packages/torch/_dynamo/symbolic_convert.py\", line 2972, in _return\n",
            "W0107 09:10:39.237000 1041 torch/_dynamo/convert_frame.py:1125]     self.output.compile_subgraph(\n",
            "W0107 09:10:39.237000 1041 torch/_dynamo/convert_frame.py:1125]   File \"/usr/local/lib/python3.10/dist-packages/torch/_dynamo/output_graph.py\", line 1117, in compile_subgraph\n",
            "W0107 09:10:39.237000 1041 torch/_dynamo/convert_frame.py:1125]     self.compile_and_call_fx_graph(tx, list(reversed(stack_values)), root)\n",
            "W0107 09:10:39.237000 1041 torch/_dynamo/convert_frame.py:1125]   File \"/usr/local/lib/python3.10/dist-packages/torch/_dynamo/output_graph.py\", line 1369, in compile_and_call_fx_graph\n",
            "W0107 09:10:39.237000 1041 torch/_dynamo/convert_frame.py:1125]     compiled_fn = self.call_user_compiler(gm)\n",
            "W0107 09:10:39.237000 1041 torch/_dynamo/convert_frame.py:1125]   File \"/usr/local/lib/python3.10/dist-packages/torch/_dynamo/output_graph.py\", line 1416, in call_user_compiler\n",
            "W0107 09:10:39.237000 1041 torch/_dynamo/convert_frame.py:1125]     return self._call_user_compiler(gm)\n",
            "W0107 09:10:39.237000 1041 torch/_dynamo/convert_frame.py:1125]   File \"/usr/local/lib/python3.10/dist-packages/torch/_dynamo/output_graph.py\", line 1465, in _call_user_compiler\n",
            "W0107 09:10:39.237000 1041 torch/_dynamo/convert_frame.py:1125]     raise BackendCompilerFailed(self.compiler_fn, e) from e\n",
            "W0107 09:10:39.237000 1041 torch/_dynamo/convert_frame.py:1125] torch._dynamo.exc.BackendCompilerFailed: backend='inductor' raised:\n",
            "W0107 09:10:39.237000 1041 torch/_dynamo/convert_frame.py:1125] RuntimeError: Cannot find a working triton installation. Either the package is not installed or it is too old. More information on installing Triton can be found at https://github.com/openai/triton\n",
            "W0107 09:10:39.237000 1041 torch/_dynamo/convert_frame.py:1125] \n",
            "W0107 09:10:39.237000 1041 torch/_dynamo/convert_frame.py:1125] Set TORCH_LOGS=\"+dynamo\" and TORCHDYNAMO_VERBOSE=1 for more information\n",
            "W0107 09:10:39.237000 1041 torch/_dynamo/convert_frame.py:1125] \n",
            "W0107 09:10:39.814000 1041 torch/_dynamo/convert_frame.py:1125] WON'T CONVERT forward <ipython-input-15-018263fd3363> line 14 \n",
            "W0107 09:10:39.814000 1041 torch/_dynamo/convert_frame.py:1125] due to: \n",
            "W0107 09:10:39.814000 1041 torch/_dynamo/convert_frame.py:1125] Traceback (most recent call last):\n",
            "W0107 09:10:39.814000 1041 torch/_dynamo/convert_frame.py:1125]   File \"/usr/local/lib/python3.10/dist-packages/torch/_dynamo/output_graph.py\", line 1446, in _call_user_compiler\n",
            "W0107 09:10:39.814000 1041 torch/_dynamo/convert_frame.py:1125]     compiled_fn = compiler_fn(gm, self.example_inputs())\n",
            "W0107 09:10:39.814000 1041 torch/_dynamo/convert_frame.py:1125]   File \"/usr/local/lib/python3.10/dist-packages/torch/_dynamo/repro/after_dynamo.py\", line 129, in __call__\n",
            "W0107 09:10:39.814000 1041 torch/_dynamo/convert_frame.py:1125]     compiled_gm = compiler_fn(gm, example_inputs)\n",
            "W0107 09:10:39.814000 1041 torch/_dynamo/convert_frame.py:1125]   File \"/usr/local/lib/python3.10/dist-packages/torch/__init__.py\", line 2234, in __call__\n",
            "W0107 09:10:39.814000 1041 torch/_dynamo/convert_frame.py:1125]     return compile_fx(model_, inputs_, config_patches=self.config)\n",
            "W0107 09:10:39.814000 1041 torch/_dynamo/convert_frame.py:1125]   File \"/usr/local/lib/python3.10/dist-packages/torch/_inductor/compile_fx.py\", line 1521, in compile_fx\n",
            "W0107 09:10:39.814000 1041 torch/_dynamo/convert_frame.py:1125]     return aot_autograd(\n",
            "W0107 09:10:39.814000 1041 torch/_dynamo/convert_frame.py:1125]   File \"/usr/local/lib/python3.10/dist-packages/torch/_dynamo/backends/common.py\", line 72, in __call__\n",
            "W0107 09:10:39.814000 1041 torch/_dynamo/convert_frame.py:1125]     cg = aot_module_simplified(gm, example_inputs, **self.kwargs)\n",
            "W0107 09:10:39.814000 1041 torch/_dynamo/convert_frame.py:1125]   File \"/usr/local/lib/python3.10/dist-packages/torch/_functorch/aot_autograd.py\", line 1071, in aot_module_simplified\n",
            "W0107 09:10:39.814000 1041 torch/_dynamo/convert_frame.py:1125]     compiled_fn = dispatch_and_compile()\n",
            "W0107 09:10:39.814000 1041 torch/_dynamo/convert_frame.py:1125]   File \"/usr/local/lib/python3.10/dist-packages/torch/_functorch/aot_autograd.py\", line 1056, in dispatch_and_compile\n",
            "W0107 09:10:39.814000 1041 torch/_dynamo/convert_frame.py:1125]     compiled_fn, _ = create_aot_dispatcher_function(\n",
            "W0107 09:10:39.814000 1041 torch/_dynamo/convert_frame.py:1125]   File \"/usr/local/lib/python3.10/dist-packages/torch/_functorch/aot_autograd.py\", line 522, in create_aot_dispatcher_function\n",
            "W0107 09:10:39.814000 1041 torch/_dynamo/convert_frame.py:1125]     return _create_aot_dispatcher_function(\n",
            "W0107 09:10:39.814000 1041 torch/_dynamo/convert_frame.py:1125]   File \"/usr/local/lib/python3.10/dist-packages/torch/_functorch/aot_autograd.py\", line 759, in _create_aot_dispatcher_function\n",
            "W0107 09:10:39.814000 1041 torch/_dynamo/convert_frame.py:1125]     compiled_fn, fw_metadata = compiler_fn(\n",
            "W0107 09:10:39.814000 1041 torch/_dynamo/convert_frame.py:1125]   File \"/usr/local/lib/python3.10/dist-packages/torch/_functorch/_aot_autograd/jit_compile_runtime_wrappers.py\", line 588, in aot_dispatch_autograd\n",
            "W0107 09:10:39.814000 1041 torch/_dynamo/convert_frame.py:1125]     compiled_fw_func = aot_config.fw_compiler(fw_module, adjusted_flat_args)\n",
            "W0107 09:10:39.814000 1041 torch/_dynamo/convert_frame.py:1125]   File \"/usr/local/lib/python3.10/dist-packages/torch/_inductor/compile_fx.py\", line 1350, in fw_compiler_base\n",
            "W0107 09:10:39.814000 1041 torch/_dynamo/convert_frame.py:1125]     return _fw_compiler_base(model, example_inputs, is_inference)\n",
            "W0107 09:10:39.814000 1041 torch/_dynamo/convert_frame.py:1125]   File \"/usr/local/lib/python3.10/dist-packages/torch/_inductor/compile_fx.py\", line 1421, in _fw_compiler_base\n",
            "W0107 09:10:39.814000 1041 torch/_dynamo/convert_frame.py:1125]     return inner_compile(\n",
            "W0107 09:10:39.814000 1041 torch/_dynamo/convert_frame.py:1125]   File \"/usr/local/lib/python3.10/dist-packages/torch/_inductor/compile_fx.py\", line 475, in compile_fx_inner\n",
            "W0107 09:10:39.814000 1041 torch/_dynamo/convert_frame.py:1125]     return wrap_compiler_debug(_compile_fx_inner, compiler_name=\"inductor\")(\n",
            "W0107 09:10:39.814000 1041 torch/_dynamo/convert_frame.py:1125]   File \"/usr/local/lib/python3.10/dist-packages/torch/_dynamo/repro/after_aot.py\", line 85, in debug_wrapper\n",
            "W0107 09:10:39.814000 1041 torch/_dynamo/convert_frame.py:1125]     inner_compiled_fn = compiler_fn(gm, example_inputs)\n",
            "W0107 09:10:39.814000 1041 torch/_dynamo/convert_frame.py:1125]   File \"/usr/local/lib/python3.10/dist-packages/torch/_inductor/compile_fx.py\", line 661, in _compile_fx_inner\n",
            "W0107 09:10:39.814000 1041 torch/_dynamo/convert_frame.py:1125]     compiled_graph = FxGraphCache.load(\n",
            "W0107 09:10:39.814000 1041 torch/_dynamo/convert_frame.py:1125]   File \"/usr/local/lib/python3.10/dist-packages/torch/_inductor/codecache.py\", line 1334, in load\n",
            "W0107 09:10:39.814000 1041 torch/_dynamo/convert_frame.py:1125]     compiled_graph = compile_fx_fn(\n",
            "W0107 09:10:39.814000 1041 torch/_dynamo/convert_frame.py:1125]   File \"/usr/local/lib/python3.10/dist-packages/torch/_inductor/compile_fx.py\", line 570, in codegen_and_compile\n",
            "W0107 09:10:39.814000 1041 torch/_dynamo/convert_frame.py:1125]     compiled_graph = fx_codegen_and_compile(gm, example_inputs, **fx_kwargs)\n",
            "W0107 09:10:39.814000 1041 torch/_dynamo/convert_frame.py:1125]   File \"/usr/local/lib/python3.10/dist-packages/torch/_inductor/compile_fx.py\", line 878, in fx_codegen_and_compile\n",
            "W0107 09:10:39.814000 1041 torch/_dynamo/convert_frame.py:1125]     compiled_fn = graph.compile_to_fn()\n",
            "W0107 09:10:39.814000 1041 torch/_dynamo/convert_frame.py:1125]   File \"/usr/local/lib/python3.10/dist-packages/torch/_inductor/graph.py\", line 1913, in compile_to_fn\n",
            "W0107 09:10:39.814000 1041 torch/_dynamo/convert_frame.py:1125]     return self.compile_to_module().call\n",
            "W0107 09:10:39.814000 1041 torch/_dynamo/convert_frame.py:1125]   File \"/usr/local/lib/python3.10/dist-packages/torch/_inductor/graph.py\", line 1839, in compile_to_module\n",
            "W0107 09:10:39.814000 1041 torch/_dynamo/convert_frame.py:1125]     return self._compile_to_module()\n",
            "W0107 09:10:39.814000 1041 torch/_dynamo/convert_frame.py:1125]   File \"/usr/local/lib/python3.10/dist-packages/torch/_inductor/graph.py\", line 1845, in _compile_to_module\n",
            "W0107 09:10:39.814000 1041 torch/_dynamo/convert_frame.py:1125]     self.codegen_with_cpp_wrapper() if self.cpp_wrapper else self.codegen()\n",
            "W0107 09:10:39.814000 1041 torch/_dynamo/convert_frame.py:1125]   File \"/usr/local/lib/python3.10/dist-packages/torch/_inductor/graph.py\", line 1780, in codegen\n",
            "W0107 09:10:39.814000 1041 torch/_dynamo/convert_frame.py:1125]     self.scheduler = Scheduler(self.operations)\n",
            "W0107 09:10:39.814000 1041 torch/_dynamo/convert_frame.py:1125]   File \"/usr/local/lib/python3.10/dist-packages/torch/_inductor/scheduler.py\", line 1731, in __init__\n",
            "W0107 09:10:39.814000 1041 torch/_dynamo/convert_frame.py:1125]     self._init(nodes)\n",
            "W0107 09:10:39.814000 1041 torch/_dynamo/convert_frame.py:1125]   File \"/usr/local/lib/python3.10/dist-packages/torch/_inductor/scheduler.py\", line 1749, in _init\n",
            "W0107 09:10:39.814000 1041 torch/_dynamo/convert_frame.py:1125]     self.nodes = [self.create_scheduler_node(n) for n in nodes]\n",
            "W0107 09:10:39.814000 1041 torch/_dynamo/convert_frame.py:1125]   File \"/usr/local/lib/python3.10/dist-packages/torch/_inductor/scheduler.py\", line 1749, in <listcomp>\n",
            "W0107 09:10:39.814000 1041 torch/_dynamo/convert_frame.py:1125]     self.nodes = [self.create_scheduler_node(n) for n in nodes]\n",
            "W0107 09:10:39.814000 1041 torch/_dynamo/convert_frame.py:1125]   File \"/usr/local/lib/python3.10/dist-packages/torch/_inductor/scheduler.py\", line 1856, in create_scheduler_node\n",
            "W0107 09:10:39.814000 1041 torch/_dynamo/convert_frame.py:1125]     return SchedulerNode(self, node)\n",
            "W0107 09:10:39.814000 1041 torch/_dynamo/convert_frame.py:1125]   File \"/usr/local/lib/python3.10/dist-packages/torch/_inductor/scheduler.py\", line 833, in __init__\n",
            "W0107 09:10:39.814000 1041 torch/_dynamo/convert_frame.py:1125]     self._compute_attrs()\n",
            "W0107 09:10:39.814000 1041 torch/_dynamo/convert_frame.py:1125]   File \"/usr/local/lib/python3.10/dist-packages/torch/_inductor/scheduler.py\", line 846, in _compute_attrs\n",
            "W0107 09:10:39.814000 1041 torch/_dynamo/convert_frame.py:1125]     group_fn = self.scheduler.get_backend(self.node.get_device()).group_fn\n",
            "W0107 09:10:39.814000 1041 torch/_dynamo/convert_frame.py:1125]   File \"/usr/local/lib/python3.10/dist-packages/torch/_inductor/scheduler.py\", line 3360, in get_backend\n",
            "W0107 09:10:39.814000 1041 torch/_dynamo/convert_frame.py:1125]     self.backends[device] = self.create_backend(device)\n",
            "W0107 09:10:39.814000 1041 torch/_dynamo/convert_frame.py:1125]   File \"/usr/local/lib/python3.10/dist-packages/torch/_inductor/scheduler.py\", line 3352, in create_backend\n",
            "W0107 09:10:39.814000 1041 torch/_dynamo/convert_frame.py:1125]     raise RuntimeError(\n",
            "W0107 09:10:39.814000 1041 torch/_dynamo/convert_frame.py:1125] RuntimeError: Cannot find a working triton installation. Either the package is not installed or it is too old. More information on installing Triton can be found at https://github.com/openai/triton\n",
            "W0107 09:10:39.814000 1041 torch/_dynamo/convert_frame.py:1125] \n",
            "W0107 09:10:39.814000 1041 torch/_dynamo/convert_frame.py:1125] The above exception was the direct cause of the following exception:\n",
            "W0107 09:10:39.814000 1041 torch/_dynamo/convert_frame.py:1125] \n",
            "W0107 09:10:39.814000 1041 torch/_dynamo/convert_frame.py:1125] Traceback (most recent call last):\n",
            "W0107 09:10:39.814000 1041 torch/_dynamo/convert_frame.py:1125]   File \"/usr/local/lib/python3.10/dist-packages/torch/_dynamo/convert_frame.py\", line 1064, in __call__\n",
            "W0107 09:10:39.814000 1041 torch/_dynamo/convert_frame.py:1125]     result = self._inner_convert(\n",
            "W0107 09:10:39.814000 1041 torch/_dynamo/convert_frame.py:1125]   File \"/usr/local/lib/python3.10/dist-packages/torch/_dynamo/convert_frame.py\", line 526, in __call__\n",
            "W0107 09:10:39.814000 1041 torch/_dynamo/convert_frame.py:1125]     return _compile(\n",
            "W0107 09:10:39.814000 1041 torch/_dynamo/convert_frame.py:1125]   File \"/usr/local/lib/python3.10/dist-packages/torch/_dynamo/convert_frame.py\", line 924, in _compile\n",
            "W0107 09:10:39.814000 1041 torch/_dynamo/convert_frame.py:1125]     guarded_code = compile_inner(code, one_graph, hooks, transform)\n",
            "W0107 09:10:39.814000 1041 torch/_dynamo/convert_frame.py:1125]   File \"/usr/local/lib/python3.10/dist-packages/torch/_dynamo/convert_frame.py\", line 666, in compile_inner\n",
            "W0107 09:10:39.814000 1041 torch/_dynamo/convert_frame.py:1125]     return _compile_inner(code, one_graph, hooks, transform)\n",
            "W0107 09:10:39.814000 1041 torch/_dynamo/convert_frame.py:1125]   File \"/usr/local/lib/python3.10/dist-packages/torch/_utils_internal.py\", line 87, in wrapper_function\n",
            "W0107 09:10:39.814000 1041 torch/_dynamo/convert_frame.py:1125]     return function(*args, **kwargs)\n",
            "W0107 09:10:39.814000 1041 torch/_dynamo/convert_frame.py:1125]   File \"/usr/local/lib/python3.10/dist-packages/torch/_dynamo/convert_frame.py\", line 699, in _compile_inner\n",
            "W0107 09:10:39.814000 1041 torch/_dynamo/convert_frame.py:1125]     out_code = transform_code_object(code, transform)\n",
            "W0107 09:10:39.814000 1041 torch/_dynamo/convert_frame.py:1125]   File \"/usr/local/lib/python3.10/dist-packages/torch/_dynamo/bytecode_transformation.py\", line 1322, in transform_code_object\n",
            "W0107 09:10:39.814000 1041 torch/_dynamo/convert_frame.py:1125]     transformations(instructions, code_options)\n",
            "W0107 09:10:39.814000 1041 torch/_dynamo/convert_frame.py:1125]   File \"/usr/local/lib/python3.10/dist-packages/torch/_dynamo/convert_frame.py\", line 219, in _fn\n",
            "W0107 09:10:39.814000 1041 torch/_dynamo/convert_frame.py:1125]     return fn(*args, **kwargs)\n",
            "W0107 09:10:39.814000 1041 torch/_dynamo/convert_frame.py:1125]   File \"/usr/local/lib/python3.10/dist-packages/torch/_dynamo/convert_frame.py\", line 634, in transform\n",
            "W0107 09:10:39.814000 1041 torch/_dynamo/convert_frame.py:1125]     tracer.run()\n",
            "W0107 09:10:39.814000 1041 torch/_dynamo/convert_frame.py:1125]   File \"/usr/local/lib/python3.10/dist-packages/torch/_dynamo/symbolic_convert.py\", line 2796, in run\n",
            "W0107 09:10:39.814000 1041 torch/_dynamo/convert_frame.py:1125]     super().run()\n",
            "W0107 09:10:39.814000 1041 torch/_dynamo/convert_frame.py:1125]   File \"/usr/local/lib/python3.10/dist-packages/torch/_dynamo/symbolic_convert.py\", line 983, in run\n",
            "W0107 09:10:39.814000 1041 torch/_dynamo/convert_frame.py:1125]     while self.step():\n",
            "W0107 09:10:39.814000 1041 torch/_dynamo/convert_frame.py:1125]   File \"/usr/local/lib/python3.10/dist-packages/torch/_dynamo/symbolic_convert.py\", line 895, in step\n",
            "W0107 09:10:39.814000 1041 torch/_dynamo/convert_frame.py:1125]     self.dispatch_table[inst.opcode](self, inst)\n",
            "W0107 09:10:39.814000 1041 torch/_dynamo/convert_frame.py:1125]   File \"/usr/local/lib/python3.10/dist-packages/torch/_dynamo/symbolic_convert.py\", line 2987, in RETURN_VALUE\n",
            "W0107 09:10:39.814000 1041 torch/_dynamo/convert_frame.py:1125]     self._return(inst)\n",
            "W0107 09:10:39.814000 1041 torch/_dynamo/convert_frame.py:1125]   File \"/usr/local/lib/python3.10/dist-packages/torch/_dynamo/symbolic_convert.py\", line 2972, in _return\n",
            "W0107 09:10:39.814000 1041 torch/_dynamo/convert_frame.py:1125]     self.output.compile_subgraph(\n",
            "W0107 09:10:39.814000 1041 torch/_dynamo/convert_frame.py:1125]   File \"/usr/local/lib/python3.10/dist-packages/torch/_dynamo/output_graph.py\", line 1117, in compile_subgraph\n",
            "W0107 09:10:39.814000 1041 torch/_dynamo/convert_frame.py:1125]     self.compile_and_call_fx_graph(tx, list(reversed(stack_values)), root)\n",
            "W0107 09:10:39.814000 1041 torch/_dynamo/convert_frame.py:1125]   File \"/usr/local/lib/python3.10/dist-packages/torch/_dynamo/output_graph.py\", line 1369, in compile_and_call_fx_graph\n",
            "W0107 09:10:39.814000 1041 torch/_dynamo/convert_frame.py:1125]     compiled_fn = self.call_user_compiler(gm)\n",
            "W0107 09:10:39.814000 1041 torch/_dynamo/convert_frame.py:1125]   File \"/usr/local/lib/python3.10/dist-packages/torch/_dynamo/output_graph.py\", line 1416, in call_user_compiler\n",
            "W0107 09:10:39.814000 1041 torch/_dynamo/convert_frame.py:1125]     return self._call_user_compiler(gm)\n",
            "W0107 09:10:39.814000 1041 torch/_dynamo/convert_frame.py:1125]   File \"/usr/local/lib/python3.10/dist-packages/torch/_dynamo/output_graph.py\", line 1465, in _call_user_compiler\n",
            "W0107 09:10:39.814000 1041 torch/_dynamo/convert_frame.py:1125]     raise BackendCompilerFailed(self.compiler_fn, e) from e\n",
            "W0107 09:10:39.814000 1041 torch/_dynamo/convert_frame.py:1125] torch._dynamo.exc.BackendCompilerFailed: backend='inductor' raised:\n",
            "W0107 09:10:39.814000 1041 torch/_dynamo/convert_frame.py:1125] RuntimeError: Cannot find a working triton installation. Either the package is not installed or it is too old. More information on installing Triton can be found at https://github.com/openai/triton\n",
            "W0107 09:10:39.814000 1041 torch/_dynamo/convert_frame.py:1125] \n",
            "W0107 09:10:39.814000 1041 torch/_dynamo/convert_frame.py:1125] Set TORCH_LOGS=\"+dynamo\" and TORCHDYNAMO_VERBOSE=1 for more information\n",
            "W0107 09:10:39.814000 1041 torch/_dynamo/convert_frame.py:1125] \n",
            "W0107 09:10:39.814000 1041 torch/_dynamo/convert_frame.py:1125] Traceback (most recent call last):\n",
            "W0107 09:10:39.814000 1041 torch/_dynamo/convert_frame.py:1125]   File \"/usr/local/lib/python3.10/dist-packages/torch/_dynamo/output_graph.py\", line 1446, in _call_user_compiler\n",
            "W0107 09:10:39.814000 1041 torch/_dynamo/convert_frame.py:1125]     compiled_fn = compiler_fn(gm, self.example_inputs())\n",
            "W0107 09:10:39.814000 1041 torch/_dynamo/convert_frame.py:1125]   File \"/usr/local/lib/python3.10/dist-packages/torch/_dynamo/repro/after_dynamo.py\", line 129, in __call__\n",
            "W0107 09:10:39.814000 1041 torch/_dynamo/convert_frame.py:1125]     compiled_gm = compiler_fn(gm, example_inputs)\n",
            "W0107 09:10:39.814000 1041 torch/_dynamo/convert_frame.py:1125]   File \"/usr/local/lib/python3.10/dist-packages/torch/__init__.py\", line 2234, in __call__\n",
            "W0107 09:10:39.814000 1041 torch/_dynamo/convert_frame.py:1125]     return compile_fx(model_, inputs_, config_patches=self.config)\n",
            "W0107 09:10:39.814000 1041 torch/_dynamo/convert_frame.py:1125]   File \"/usr/local/lib/python3.10/dist-packages/torch/_inductor/compile_fx.py\", line 1521, in compile_fx\n",
            "W0107 09:10:39.814000 1041 torch/_dynamo/convert_frame.py:1125]     return aot_autograd(\n",
            "W0107 09:10:39.814000 1041 torch/_dynamo/convert_frame.py:1125]   File \"/usr/local/lib/python3.10/dist-packages/torch/_dynamo/backends/common.py\", line 72, in __call__\n",
            "W0107 09:10:39.814000 1041 torch/_dynamo/convert_frame.py:1125]     cg = aot_module_simplified(gm, example_inputs, **self.kwargs)\n",
            "W0107 09:10:39.814000 1041 torch/_dynamo/convert_frame.py:1125]   File \"/usr/local/lib/python3.10/dist-packages/torch/_functorch/aot_autograd.py\", line 1071, in aot_module_simplified\n",
            "W0107 09:10:39.814000 1041 torch/_dynamo/convert_frame.py:1125]     compiled_fn = dispatch_and_compile()\n",
            "W0107 09:10:39.814000 1041 torch/_dynamo/convert_frame.py:1125]   File \"/usr/local/lib/python3.10/dist-packages/torch/_functorch/aot_autograd.py\", line 1056, in dispatch_and_compile\n",
            "W0107 09:10:39.814000 1041 torch/_dynamo/convert_frame.py:1125]     compiled_fn, _ = create_aot_dispatcher_function(\n",
            "W0107 09:10:39.814000 1041 torch/_dynamo/convert_frame.py:1125]   File \"/usr/local/lib/python3.10/dist-packages/torch/_functorch/aot_autograd.py\", line 522, in create_aot_dispatcher_function\n",
            "W0107 09:10:39.814000 1041 torch/_dynamo/convert_frame.py:1125]     return _create_aot_dispatcher_function(\n",
            "W0107 09:10:39.814000 1041 torch/_dynamo/convert_frame.py:1125]   File \"/usr/local/lib/python3.10/dist-packages/torch/_functorch/aot_autograd.py\", line 759, in _create_aot_dispatcher_function\n",
            "W0107 09:10:39.814000 1041 torch/_dynamo/convert_frame.py:1125]     compiled_fn, fw_metadata = compiler_fn(\n",
            "W0107 09:10:39.814000 1041 torch/_dynamo/convert_frame.py:1125]   File \"/usr/local/lib/python3.10/dist-packages/torch/_functorch/_aot_autograd/jit_compile_runtime_wrappers.py\", line 588, in aot_dispatch_autograd\n",
            "W0107 09:10:39.814000 1041 torch/_dynamo/convert_frame.py:1125]     compiled_fw_func = aot_config.fw_compiler(fw_module, adjusted_flat_args)\n",
            "W0107 09:10:39.814000 1041 torch/_dynamo/convert_frame.py:1125]   File \"/usr/local/lib/python3.10/dist-packages/torch/_inductor/compile_fx.py\", line 1350, in fw_compiler_base\n",
            "W0107 09:10:39.814000 1041 torch/_dynamo/convert_frame.py:1125]     return _fw_compiler_base(model, example_inputs, is_inference)\n",
            "W0107 09:10:39.814000 1041 torch/_dynamo/convert_frame.py:1125]   File \"/usr/local/lib/python3.10/dist-packages/torch/_inductor/compile_fx.py\", line 1421, in _fw_compiler_base\n",
            "W0107 09:10:39.814000 1041 torch/_dynamo/convert_frame.py:1125]     return inner_compile(\n",
            "W0107 09:10:39.814000 1041 torch/_dynamo/convert_frame.py:1125]   File \"/usr/local/lib/python3.10/dist-packages/torch/_inductor/compile_fx.py\", line 475, in compile_fx_inner\n",
            "W0107 09:10:39.814000 1041 torch/_dynamo/convert_frame.py:1125]     return wrap_compiler_debug(_compile_fx_inner, compiler_name=\"inductor\")(\n",
            "W0107 09:10:39.814000 1041 torch/_dynamo/convert_frame.py:1125]   File \"/usr/local/lib/python3.10/dist-packages/torch/_dynamo/repro/after_aot.py\", line 85, in debug_wrapper\n",
            "W0107 09:10:39.814000 1041 torch/_dynamo/convert_frame.py:1125]     inner_compiled_fn = compiler_fn(gm, example_inputs)\n",
            "W0107 09:10:39.814000 1041 torch/_dynamo/convert_frame.py:1125]   File \"/usr/local/lib/python3.10/dist-packages/torch/_inductor/compile_fx.py\", line 661, in _compile_fx_inner\n",
            "W0107 09:10:39.814000 1041 torch/_dynamo/convert_frame.py:1125]     compiled_graph = FxGraphCache.load(\n",
            "W0107 09:10:39.814000 1041 torch/_dynamo/convert_frame.py:1125]   File \"/usr/local/lib/python3.10/dist-packages/torch/_inductor/codecache.py\", line 1334, in load\n",
            "W0107 09:10:39.814000 1041 torch/_dynamo/convert_frame.py:1125]     compiled_graph = compile_fx_fn(\n",
            "W0107 09:10:39.814000 1041 torch/_dynamo/convert_frame.py:1125]   File \"/usr/local/lib/python3.10/dist-packages/torch/_inductor/compile_fx.py\", line 570, in codegen_and_compile\n",
            "W0107 09:10:39.814000 1041 torch/_dynamo/convert_frame.py:1125]     compiled_graph = fx_codegen_and_compile(gm, example_inputs, **fx_kwargs)\n",
            "W0107 09:10:39.814000 1041 torch/_dynamo/convert_frame.py:1125]   File \"/usr/local/lib/python3.10/dist-packages/torch/_inductor/compile_fx.py\", line 878, in fx_codegen_and_compile\n",
            "W0107 09:10:39.814000 1041 torch/_dynamo/convert_frame.py:1125]     compiled_fn = graph.compile_to_fn()\n",
            "W0107 09:10:39.814000 1041 torch/_dynamo/convert_frame.py:1125]   File \"/usr/local/lib/python3.10/dist-packages/torch/_inductor/graph.py\", line 1913, in compile_to_fn\n",
            "W0107 09:10:39.814000 1041 torch/_dynamo/convert_frame.py:1125]     return self.compile_to_module().call\n",
            "W0107 09:10:39.814000 1041 torch/_dynamo/convert_frame.py:1125]   File \"/usr/local/lib/python3.10/dist-packages/torch/_inductor/graph.py\", line 1839, in compile_to_module\n",
            "W0107 09:10:39.814000 1041 torch/_dynamo/convert_frame.py:1125]     return self._compile_to_module()\n",
            "W0107 09:10:39.814000 1041 torch/_dynamo/convert_frame.py:1125]   File \"/usr/local/lib/python3.10/dist-packages/torch/_inductor/graph.py\", line 1845, in _compile_to_module\n",
            "W0107 09:10:39.814000 1041 torch/_dynamo/convert_frame.py:1125]     self.codegen_with_cpp_wrapper() if self.cpp_wrapper else self.codegen()\n",
            "W0107 09:10:39.814000 1041 torch/_dynamo/convert_frame.py:1125]   File \"/usr/local/lib/python3.10/dist-packages/torch/_inductor/graph.py\", line 1780, in codegen\n",
            "W0107 09:10:39.814000 1041 torch/_dynamo/convert_frame.py:1125]     self.scheduler = Scheduler(self.operations)\n",
            "W0107 09:10:39.814000 1041 torch/_dynamo/convert_frame.py:1125]   File \"/usr/local/lib/python3.10/dist-packages/torch/_inductor/scheduler.py\", line 1731, in __init__\n",
            "W0107 09:10:39.814000 1041 torch/_dynamo/convert_frame.py:1125]     self._init(nodes)\n",
            "W0107 09:10:39.814000 1041 torch/_dynamo/convert_frame.py:1125]   File \"/usr/local/lib/python3.10/dist-packages/torch/_inductor/scheduler.py\", line 1749, in _init\n",
            "W0107 09:10:39.814000 1041 torch/_dynamo/convert_frame.py:1125]     self.nodes = [self.create_scheduler_node(n) for n in nodes]\n",
            "W0107 09:10:39.814000 1041 torch/_dynamo/convert_frame.py:1125]   File \"/usr/local/lib/python3.10/dist-packages/torch/_inductor/scheduler.py\", line 1749, in <listcomp>\n",
            "W0107 09:10:39.814000 1041 torch/_dynamo/convert_frame.py:1125]     self.nodes = [self.create_scheduler_node(n) for n in nodes]\n",
            "W0107 09:10:39.814000 1041 torch/_dynamo/convert_frame.py:1125]   File \"/usr/local/lib/python3.10/dist-packages/torch/_inductor/scheduler.py\", line 1856, in create_scheduler_node\n",
            "W0107 09:10:39.814000 1041 torch/_dynamo/convert_frame.py:1125]     return SchedulerNode(self, node)\n",
            "W0107 09:10:39.814000 1041 torch/_dynamo/convert_frame.py:1125]   File \"/usr/local/lib/python3.10/dist-packages/torch/_inductor/scheduler.py\", line 833, in __init__\n",
            "W0107 09:10:39.814000 1041 torch/_dynamo/convert_frame.py:1125]     self._compute_attrs()\n",
            "W0107 09:10:39.814000 1041 torch/_dynamo/convert_frame.py:1125]   File \"/usr/local/lib/python3.10/dist-packages/torch/_inductor/scheduler.py\", line 846, in _compute_attrs\n",
            "W0107 09:10:39.814000 1041 torch/_dynamo/convert_frame.py:1125]     group_fn = self.scheduler.get_backend(self.node.get_device()).group_fn\n",
            "W0107 09:10:39.814000 1041 torch/_dynamo/convert_frame.py:1125]   File \"/usr/local/lib/python3.10/dist-packages/torch/_inductor/scheduler.py\", line 3360, in get_backend\n",
            "W0107 09:10:39.814000 1041 torch/_dynamo/convert_frame.py:1125]     self.backends[device] = self.create_backend(device)\n",
            "W0107 09:10:39.814000 1041 torch/_dynamo/convert_frame.py:1125]   File \"/usr/local/lib/python3.10/dist-packages/torch/_inductor/scheduler.py\", line 3352, in create_backend\n",
            "W0107 09:10:39.814000 1041 torch/_dynamo/convert_frame.py:1125]     raise RuntimeError(\n",
            "W0107 09:10:39.814000 1041 torch/_dynamo/convert_frame.py:1125] RuntimeError: Cannot find a working triton installation. Either the package is not installed or it is too old. More information on installing Triton can be found at https://github.com/openai/triton\n",
            "W0107 09:10:39.814000 1041 torch/_dynamo/convert_frame.py:1125] \n",
            "W0107 09:10:39.814000 1041 torch/_dynamo/convert_frame.py:1125] The above exception was the direct cause of the following exception:\n",
            "W0107 09:10:39.814000 1041 torch/_dynamo/convert_frame.py:1125] \n",
            "W0107 09:10:39.814000 1041 torch/_dynamo/convert_frame.py:1125] Traceback (most recent call last):\n",
            "W0107 09:10:39.814000 1041 torch/_dynamo/convert_frame.py:1125]   File \"/usr/local/lib/python3.10/dist-packages/torch/_dynamo/convert_frame.py\", line 1064, in __call__\n",
            "W0107 09:10:39.814000 1041 torch/_dynamo/convert_frame.py:1125]     result = self._inner_convert(\n",
            "W0107 09:10:39.814000 1041 torch/_dynamo/convert_frame.py:1125]   File \"/usr/local/lib/python3.10/dist-packages/torch/_dynamo/convert_frame.py\", line 526, in __call__\n",
            "W0107 09:10:39.814000 1041 torch/_dynamo/convert_frame.py:1125]     return _compile(\n",
            "W0107 09:10:39.814000 1041 torch/_dynamo/convert_frame.py:1125]   File \"/usr/local/lib/python3.10/dist-packages/torch/_dynamo/convert_frame.py\", line 924, in _compile\n",
            "W0107 09:10:39.814000 1041 torch/_dynamo/convert_frame.py:1125]     guarded_code = compile_inner(code, one_graph, hooks, transform)\n",
            "W0107 09:10:39.814000 1041 torch/_dynamo/convert_frame.py:1125]   File \"/usr/local/lib/python3.10/dist-packages/torch/_dynamo/convert_frame.py\", line 666, in compile_inner\n",
            "W0107 09:10:39.814000 1041 torch/_dynamo/convert_frame.py:1125]     return _compile_inner(code, one_graph, hooks, transform)\n",
            "W0107 09:10:39.814000 1041 torch/_dynamo/convert_frame.py:1125]   File \"/usr/local/lib/python3.10/dist-packages/torch/_utils_internal.py\", line 87, in wrapper_function\n",
            "W0107 09:10:39.814000 1041 torch/_dynamo/convert_frame.py:1125]     return function(*args, **kwargs)\n",
            "W0107 09:10:39.814000 1041 torch/_dynamo/convert_frame.py:1125]   File \"/usr/local/lib/python3.10/dist-packages/torch/_dynamo/convert_frame.py\", line 699, in _compile_inner\n",
            "W0107 09:10:39.814000 1041 torch/_dynamo/convert_frame.py:1125]     out_code = transform_code_object(code, transform)\n",
            "W0107 09:10:39.814000 1041 torch/_dynamo/convert_frame.py:1125]   File \"/usr/local/lib/python3.10/dist-packages/torch/_dynamo/bytecode_transformation.py\", line 1322, in transform_code_object\n",
            "W0107 09:10:39.814000 1041 torch/_dynamo/convert_frame.py:1125]     transformations(instructions, code_options)\n",
            "W0107 09:10:39.814000 1041 torch/_dynamo/convert_frame.py:1125]   File \"/usr/local/lib/python3.10/dist-packages/torch/_dynamo/convert_frame.py\", line 219, in _fn\n",
            "W0107 09:10:39.814000 1041 torch/_dynamo/convert_frame.py:1125]     return fn(*args, **kwargs)\n",
            "W0107 09:10:39.814000 1041 torch/_dynamo/convert_frame.py:1125]   File \"/usr/local/lib/python3.10/dist-packages/torch/_dynamo/convert_frame.py\", line 634, in transform\n",
            "W0107 09:10:39.814000 1041 torch/_dynamo/convert_frame.py:1125]     tracer.run()\n",
            "W0107 09:10:39.814000 1041 torch/_dynamo/convert_frame.py:1125]   File \"/usr/local/lib/python3.10/dist-packages/torch/_dynamo/symbolic_convert.py\", line 2796, in run\n",
            "W0107 09:10:39.814000 1041 torch/_dynamo/convert_frame.py:1125]     super().run()\n",
            "W0107 09:10:39.814000 1041 torch/_dynamo/convert_frame.py:1125]   File \"/usr/local/lib/python3.10/dist-packages/torch/_dynamo/symbolic_convert.py\", line 983, in run\n",
            "W0107 09:10:39.814000 1041 torch/_dynamo/convert_frame.py:1125]     while self.step():\n",
            "W0107 09:10:39.814000 1041 torch/_dynamo/convert_frame.py:1125]   File \"/usr/local/lib/python3.10/dist-packages/torch/_dynamo/symbolic_convert.py\", line 895, in step\n",
            "W0107 09:10:39.814000 1041 torch/_dynamo/convert_frame.py:1125]     self.dispatch_table[inst.opcode](self, inst)\n",
            "W0107 09:10:39.814000 1041 torch/_dynamo/convert_frame.py:1125]   File \"/usr/local/lib/python3.10/dist-packages/torch/_dynamo/symbolic_convert.py\", line 2987, in RETURN_VALUE\n",
            "W0107 09:10:39.814000 1041 torch/_dynamo/convert_frame.py:1125]     self._return(inst)\n",
            "W0107 09:10:39.814000 1041 torch/_dynamo/convert_frame.py:1125]   File \"/usr/local/lib/python3.10/dist-packages/torch/_dynamo/symbolic_convert.py\", line 2972, in _return\n",
            "W0107 09:10:39.814000 1041 torch/_dynamo/convert_frame.py:1125]     self.output.compile_subgraph(\n",
            "W0107 09:10:39.814000 1041 torch/_dynamo/convert_frame.py:1125]   File \"/usr/local/lib/python3.10/dist-packages/torch/_dynamo/output_graph.py\", line 1117, in compile_subgraph\n",
            "W0107 09:10:39.814000 1041 torch/_dynamo/convert_frame.py:1125]     self.compile_and_call_fx_graph(tx, list(reversed(stack_values)), root)\n",
            "W0107 09:10:39.814000 1041 torch/_dynamo/convert_frame.py:1125]   File \"/usr/local/lib/python3.10/dist-packages/torch/_dynamo/output_graph.py\", line 1369, in compile_and_call_fx_graph\n",
            "W0107 09:10:39.814000 1041 torch/_dynamo/convert_frame.py:1125]     compiled_fn = self.call_user_compiler(gm)\n",
            "W0107 09:10:39.814000 1041 torch/_dynamo/convert_frame.py:1125]   File \"/usr/local/lib/python3.10/dist-packages/torch/_dynamo/output_graph.py\", line 1416, in call_user_compiler\n",
            "W0107 09:10:39.814000 1041 torch/_dynamo/convert_frame.py:1125]     return self._call_user_compiler(gm)\n",
            "W0107 09:10:39.814000 1041 torch/_dynamo/convert_frame.py:1125]   File \"/usr/local/lib/python3.10/dist-packages/torch/_dynamo/output_graph.py\", line 1465, in _call_user_compiler\n",
            "W0107 09:10:39.814000 1041 torch/_dynamo/convert_frame.py:1125]     raise BackendCompilerFailed(self.compiler_fn, e) from e\n",
            "W0107 09:10:39.814000 1041 torch/_dynamo/convert_frame.py:1125] torch._dynamo.exc.BackendCompilerFailed: backend='inductor' raised:\n",
            "W0107 09:10:39.814000 1041 torch/_dynamo/convert_frame.py:1125] RuntimeError: Cannot find a working triton installation. Either the package is not installed or it is too old. More information on installing Triton can be found at https://github.com/openai/triton\n",
            "W0107 09:10:39.814000 1041 torch/_dynamo/convert_frame.py:1125] \n",
            "W0107 09:10:39.814000 1041 torch/_dynamo/convert_frame.py:1125] Set TORCH_LOGS=\"+dynamo\" and TORCHDYNAMO_VERBOSE=1 for more information\n",
            "W0107 09:10:39.814000 1041 torch/_dynamo/convert_frame.py:1125] \n"
          ]
        },
        {
          "output_type": "stream",
          "name": "stdout",
          "text": [
            "Train - Loss: 749.5916 Accuracy: 0.8715\n",
            "Valid - Loss: 35.5146 Accuracy: 0.9607\n",
            "Epoch: 1\n",
            "Train - Loss: 343.0188 Accuracy: 0.9437\n",
            "Valid - Loss: 26.1467 Accuracy: 0.9731\n",
            "Epoch: 2\n",
            "Train - Loss: 245.3936 Accuracy: 0.9594\n",
            "Valid - Loss: 33.6063 Accuracy: 0.9648\n",
            "Epoch: 3\n",
            "Train - Loss: 215.9517 Accuracy: 0.9646\n",
            "Valid - Loss: 18.6845 Accuracy: 0.9801\n",
            "Epoch: 4\n",
            "Train - Loss: 195.2233 Accuracy: 0.9675\n",
            "Valid - Loss: 20.9093 Accuracy: 0.9799\n",
            "Epoch: 5\n",
            "Train - Loss: 178.4889 Accuracy: 0.9712\n",
            "Valid - Loss: 21.2902 Accuracy: 0.9784\n",
            "Epoch: 6\n",
            "Train - Loss: 162.8331 Accuracy: 0.9724\n",
            "Valid - Loss: 11.9122 Accuracy: 0.9875\n",
            "Epoch: 7\n",
            "Train - Loss: 162.1036 Accuracy: 0.9727\n",
            "Valid - Loss: 18.5743 Accuracy: 0.9792\n",
            "Epoch: 8\n",
            "Train - Loss: 154.7563 Accuracy: 0.9744\n",
            "Valid - Loss: 18.0208 Accuracy: 0.9794\n",
            "Epoch: 9\n",
            "Train - Loss: 149.0102 Accuracy: 0.9746\n",
            "Valid - Loss: 19.1109 Accuracy: 0.9803\n"
          ]
        }
      ]
    },
    {
      "cell_type": "markdown",
      "source": [
        "##6.Model Deployement"
      ],
      "metadata": {
        "id": "XVoUDizynoFf"
      }
    },
    {
      "cell_type": "code",
      "source": [
        "torch.save(base_model,'model.pth')"
      ],
      "metadata": {
        "id": "v7zI8Xgwx0PC"
      },
      "execution_count": null,
      "outputs": []
    },
    {
      "cell_type": "code",
      "source": [
        "from utils import MyConvBlock\n"
      ],
      "metadata": {
        "id": "3jHOaCEJCYNc"
      },
      "execution_count": null,
      "outputs": []
    },
    {
      "cell_type": "code",
      "source": [
        "model = torch.load('model.pth', map_location=device)\n",
        "model"
      ],
      "metadata": {
        "colab": {
          "base_uri": "https://localhost:8080/"
        },
        "id": "lfTOhAImCdFb",
        "outputId": "1259bc16-d9e6-4086-e098-f78eb1edb550"
      },
      "execution_count": null,
      "outputs": [
        {
          "output_type": "stream",
          "name": "stderr",
          "text": [
            "<ipython-input-41-bef24bd3aae5>:1: FutureWarning: You are using `torch.load` with `weights_only=False` (the current default value), which uses the default pickle module implicitly. It is possible to construct malicious pickle data which will execute arbitrary code during unpickling (See https://github.com/pytorch/pytorch/blob/main/SECURITY.md#untrusted-models for more details). In a future release, the default value for `weights_only` will be flipped to `True`. This limits the functions that could be executed during unpickling. Arbitrary objects will no longer be allowed to be loaded via this mode unless they are explicitly allowlisted by the user via `torch.serialization.add_safe_globals`. We recommend you start setting `weights_only=True` for any use case where you don't have full control of the loaded file. Please open an issue on GitHub for any issues related to this experimental feature.\n",
            "  model = torch.load('model.pth', map_location=device)\n"
          ]
        },
        {
          "output_type": "execute_result",
          "data": {
            "text/plain": [
              "Sequential(\n",
              "  (0): MyConvBlock(\n",
              "    (model): Sequential(\n",
              "      (0): Conv2d(1, 25, kernel_size=(3, 3), stride=(1, 1), padding=(1, 1))\n",
              "      (1): BatchNorm2d(25, eps=1e-05, momentum=0.1, affine=True, track_running_stats=True)\n",
              "      (2): ReLU()\n",
              "      (3): Dropout(p=0, inplace=False)\n",
              "      (4): MaxPool2d(kernel_size=2, stride=2, padding=0, dilation=1, ceil_mode=False)\n",
              "    )\n",
              "  )\n",
              "  (1): MyConvBlock(\n",
              "    (model): Sequential(\n",
              "      (0): Conv2d(25, 50, kernel_size=(3, 3), stride=(1, 1), padding=(1, 1))\n",
              "      (1): BatchNorm2d(50, eps=1e-05, momentum=0.1, affine=True, track_running_stats=True)\n",
              "      (2): ReLU()\n",
              "      (3): Dropout(p=0.2, inplace=False)\n",
              "      (4): MaxPool2d(kernel_size=2, stride=2, padding=0, dilation=1, ceil_mode=False)\n",
              "    )\n",
              "  )\n",
              "  (2): MyConvBlock(\n",
              "    (model): Sequential(\n",
              "      (0): Conv2d(50, 75, kernel_size=(3, 3), stride=(1, 1), padding=(1, 1))\n",
              "      (1): BatchNorm2d(75, eps=1e-05, momentum=0.1, affine=True, track_running_stats=True)\n",
              "      (2): ReLU()\n",
              "      (3): Dropout(p=0, inplace=False)\n",
              "      (4): MaxPool2d(kernel_size=2, stride=2, padding=0, dilation=1, ceil_mode=False)\n",
              "    )\n",
              "  )\n",
              "  (3): Flatten(start_dim=1, end_dim=-1)\n",
              "  (4): Linear(in_features=675, out_features=512, bias=True)\n",
              "  (5): Dropout(p=0.3, inplace=False)\n",
              "  (6): ReLU()\n",
              "  (7): Linear(in_features=512, out_features=24, bias=True)\n",
              ")"
            ]
          },
          "metadata": {},
          "execution_count": 41
        }
      ]
    },
    {
      "cell_type": "code",
      "source": [
        "next(model.parameters()).device"
      ],
      "metadata": {
        "colab": {
          "base_uri": "https://localhost:8080/"
        },
        "id": "vur05pyLCuB0",
        "outputId": "6512f607-59cb-462d-9d64-963dffa67628"
      },
      "execution_count": null,
      "outputs": [
        {
          "output_type": "execute_result",
          "data": {
            "text/plain": [
              "device(type='cuda', index=0)"
            ]
          },
          "metadata": {},
          "execution_count": 42
        }
      ]
    },
    {
      "cell_type": "markdown",
      "source": [
        "##7.Show the images"
      ],
      "metadata": {
        "id": "5tM_X1ZQC6Nz"
      }
    },
    {
      "cell_type": "code",
      "source": [
        "import matplotlib.pyplot as plt\n",
        "import matplotlib.image as mpimg\n",
        "\n",
        "def show_image(image_path):\n",
        "  image = mpimg.imread(image_path)\n",
        "  plt.imshow(image,cmap = 'gray')\n"
      ],
      "metadata": {
        "id": "NmbbY7iwC8hb"
      },
      "execution_count": null,
      "outputs": []
    },
    {
      "cell_type": "code",
      "source": [
        "show_image('/content/drive/MyDrive/LAB AI/Jupyter Notebook/img_1.jpg')"
      ],
      "metadata": {
        "colab": {
          "base_uri": "https://localhost:8080/",
          "height": 430
        },
        "id": "E4hPcWX5FnC9",
        "outputId": "7bbb39f3-cf37-4adf-f9ab-2d17cfd395ee"
      },
      "execution_count": null,
      "outputs": [
        {
          "output_type": "display_data",
          "data": {
            "text/plain": [
              "<Figure size 640x480 with 1 Axes>"
            ],
            "image/png": "[encoded data removed]"
          },
          "metadata": {}
        }
      ]
    },
    {
      "cell_type": "markdown",
      "source": [
        "##8.Scaling the images"
      ],
      "metadata": {
        "id": "HUib3L56Fyj1"
      }
    },
    {
      "cell_type": "code",
      "source": [
        "image = tv_io.read_image('/content/drive/MyDrive/LAB AI/Jupyter Notebook/img_1.jpg',mode = tv_io.image.ImageReadMode.GRAY)\n",
        "image"
      ],
      "metadata": {
        "colab": {
          "base_uri": "https://localhost:8080/"
        },
        "id": "mUaCpUhjF9_U",
        "outputId": "5791e590-689d-46dd-f2b0-79376ac629c4"
      },
      "execution_count": null,
      "outputs": [
        {
          "output_type": "execute_result",
          "data": {
            "text/plain": [
              "tensor([[[  0,   0,   0,   0,   0,   0,   0,   0,   0,   1,   3,   0,   0,   4,\n",
              "            2,   0,  11,   0,   0,  14,   1,   0,  19,   0,   0,   0,   0,   0],\n",
              "         [  0,   0,   0,   0,   0,   0,   0,   0,   0,  12,   0,   0,   7,   0,\n",
              "            1,  10,   0,   2,   2,  16,   0,   3,   3,   0,   0,   0,   0,   0],\n",
              "         [  0,   0,   0,   0,   0,   0,   0,   0,   7,   8,   0,   8,   0,   0,\n",
              "            8,   0,   0,  19,   0,   0,   1,  21,   0,   4,   0,   0,   0,   0],\n",
              "         [  0,   0,   0,   0,   0,   0,   0,   0,   0,   0,   1,   0,   0,   1,\n",
              "            0,   0,   0,   0,   0,  11,   0,   0,  10,   3,   0,   0,   0,   0],\n",
              "         [  0,   0,   0,   0,   0,   0,   0,   0,  13,   0,  15,  10,  26,  34,\n",
              "           17,  77, 181, 178,  35,   4,   0,   0,   0,   0,   0,   0,   0,   0],\n",
              "         [  0,   0,   0,   0,   0,   0,   0,   0,   0,   0, 150, 254, 250, 251,\n",
              "          243, 252, 252, 255,  45,   6,   0,   5,   0,   9,   0,   0,   0,   0],\n",
              "         [  0,   0,   0,   0,   0,   0,   0,   0,   7,  72, 205, 255, 238, 243,\n",
              "          255, 254, 251, 248, 201, 198,  57,   0,  19,   0,   0,   0,   0,   0],\n",
              "         [  0,   0,   0,   0,   0,   0,   0,   0,   0, 218, 255, 241, 255, 249,\n",
              "          250, 251, 250, 255, 255, 242, 224,  49,   0,  12,   0,   0,   0,   0],\n",
              "         [  0,   0,   1,   2,   3,   2,   2,   1,   0,  65, 228, 255, 254, 244,\n",
              "          119,  34,  41, 110, 250, 255, 248, 124,  20,   0,   0,   0,   0,   0],\n",
              "         [  1,   1,   0,   0,   0,   0,   0,   0,  12,   0,  62, 103, 113, 117,\n",
              "           34,   0,   0,   0, 200, 244, 255, 255,   0,  12,   0,   0,   0,   0],\n",
              "         [  2,   1,   0,   0,   0,   0,   1,   2,   0,   0,   2,   4,   0,  11,\n",
              "            0,   7,   6,   0,  75, 244, 255, 255,   4,   0,   0,   0,   0,   0],\n",
              "         [  0,   0,   0,   1,   2,   3,   4,   4,   0,  14,   0,   0,   0,   9,\n",
              "            0,   2,   0,   0,  34, 255, 255, 253,  10,  10,   0,   0,   0,   0],\n",
              "         [  0,   0,   1,   2,   3,   2,   0,   0,   3,   2,   0,  13,  11,   0,\n",
              "            0,   0,   6,  12,  99, 255, 254, 248,  15,  12,   0,   0,   0,   0],\n",
              "         [  0,   1,   1,   1,   0,   0,   0,   0,   1,   1,   0,   0,   5,   6,\n",
              "           11,   0,   0,  17, 184, 247, 255, 243,  13,   0,   0,   0,   0,   0],\n",
              "         [  3,   2,   0,   0,   0,   0,   2,   4,   4,   0,  11,   0,  51,  94,\n",
              "           85,   5,   5,  25, 246, 246, 255, 208,   0,   9,   0,   0,   0,   0],\n",
              "         [  4,   1,   0,   0,   1,   7,  15,  19,  99, 103, 182, 189, 237, 253,\n",
              "          252, 191, 190, 227, 243, 252, 210,  18,   7,   0,   0,   0,   0,   0],\n",
              "         [  0,   4,   0,   0,  32, 109, 185, 247, 255, 242, 255, 244, 255, 255,\n",
              "          242, 251, 255, 240, 255, 255, 218, 124,   9,   0,   0,   0,   0,   0],\n",
              "         [  2,   0,   0,   0, 127, 255, 235, 255, 255, 247, 229, 212, 242, 250,\n",
              "          255, 255, 248, 255, 253, 249, 255, 243, 170,  12,   0,   0,   0,   0],\n",
              "         [  0,  11,   0,   9, 253, 255, 255, 233, 202,  85,   0,  53, 196, 238,\n",
              "          255, 227, 238, 142, 109, 193, 255, 240, 255, 180,   0,   0,   0,   0],\n",
              "         [  6,   0,  22,   1, 245, 243, 254, 255, 217, 235, 226, 213, 244, 251,\n",
              "          255, 239,  77,   0,   0,  20, 182, 247, 239, 243,   0,   0,   0,   0],\n",
              "         [  0,   0,   0,   4, 165, 251, 255, 245, 255, 242, 253, 250, 255, 197,\n",
              "          107,  59,   0,  18,   2,   6,   0,  54, 255, 158,   0,   0,   0,   0],\n",
              "         [  0,  24,   0,   0,   6,  34, 167, 194, 176, 183, 164,  44,   2,  10,\n",
              "            6,   6,   0,   0,   5,   0,   1,   0,  14,   2,   0,   0,   0,   0],\n",
              "         [ 10,   0,  14,   0,  12,   0,   5,   0,   1,   0,   6,   0,   7,   0,\n",
              "            0,   0,   8,   0,  10,   0,   5,   0,   0,  10,   0,   0,   0,   0],\n",
              "         [  0,  14,   0,   4,   0,   0,  25,   0,   0,   9,   0,   0,   9,   0,\n",
              "           11,   0,   1,   0,   0,   2,   0,   0,   7,   0,   0,   0,   0,   0],\n",
              "         [  0,   0,   0,   0,   0,   0,   0,   0,   0,   0,   0,   0,   0,   0,\n",
              "            0,   0,   0,   0,   0,   0,   0,   0,   0,   0,   0,   0,   0,   0],\n",
              "         [  0,   0,   0,   0,   0,   0,   0,   0,   0,   0,   0,   0,   0,   0,\n",
              "            0,   0,   0,   0,   0,   0,   0,   0,   0,   0,   0,   0,   0,   0],\n",
              "         [  0,   0,   0,   0,   0,   0,   0,   0,   0,   0,   0,   0,   0,   0,\n",
              "            0,   0,   0,   0,   0,   0,   0,   0,   0,   0,   0,   0,   0,   0],\n",
              "         [  0,   0,   0,   0,   0,   0,   0,   0,   0,   0,   0,   0,   0,   0,\n",
              "            0,   0,   0,   0,   0,   0,   0,   0,   0,   0,   0,   0,   0,   0]]],\n",
              "       dtype=torch.uint8)"
            ]
          },
          "metadata": {},
          "execution_count": 108
        }
      ]
    },
    {
      "cell_type": "code",
      "source": [
        "image.shape"
      ],
      "metadata": {
        "colab": {
          "base_uri": "https://localhost:8080/"
        },
        "id": "xMff6XCGGSFG",
        "outputId": "ebd777af-5eb3-444e-eca8-c3ca3aead1b6"
      },
      "execution_count": null,
      "outputs": [
        {
          "output_type": "execute_result",
          "data": {
            "text/plain": [
              "torch.Size([1, 28, 28])"
            ]
          },
          "metadata": {},
          "execution_count": 109
        }
      ]
    },
    {
      "cell_type": "code",
      "source": [
        "IMG_WIDTH = 28\n",
        "IMG_HEIGHT = 28\n",
        "\n",
        "preprocess_trans = transforms.Compose([\n",
        "    transforms.ToDtype(torch.float32, scale=True), #Converts [0, 255] to [0, 1]\n",
        "    transforms.Resize((IMG_WIDTH, IMG_HEIGHT)),\n",
        "    transforms.Grayscale(),\n",
        "])"
      ],
      "metadata": {
        "id": "PtUYCoTDGVr1"
      },
      "execution_count": null,
      "outputs": []
    },
    {
      "cell_type": "code",
      "source": [
        "processed_image = preprocess_trans(image)\n",
        "processed_image\n"
      ],
      "metadata": {
        "colab": {
          "base_uri": "https://localhost:8080/"
        },
        "id": "EOw_I1X_HQIO",
        "outputId": "f1cb032b-558d-406c-c568-52ff01c0603a"
      },
      "execution_count": null,
      "outputs": [
        {
          "output_type": "execute_result",
          "data": {
            "text/plain": [
              "tensor([[[0.0000, 0.0000, 0.0000, 0.0000, 0.0000, 0.0000, 0.0000, 0.0000,\n",
              "          0.0000, 0.0039, 0.0118, 0.0000, 0.0000, 0.0157, 0.0078, 0.0000,\n",
              "          0.0431, 0.0000, 0.0000, 0.0549, 0.0039, 0.0000, 0.0745, 0.0000,\n",
              "          0.0000, 0.0000, 0.0000, 0.0000],\n",
              "         [0.0000, 0.0000, 0.0000, 0.0000, 0.0000, 0.0000, 0.0000, 0.0000,\n",
              "          0.0000, 0.0471, 0.0000, 0.0000, 0.0275, 0.0000, 0.0039, 0.0392,\n",
              "          0.0000, 0.0078, 0.0078, 0.0627, 0.0000, 0.0118, 0.0118, 0.0000,\n",
              "          0.0000, 0.0000, 0.0000, 0.0000],\n",
              "         [0.0000, 0.0000, 0.0000, 0.0000, 0.0000, 0.0000, 0.0000, 0.0000,\n",
              "          0.0275, 0.0314, 0.0000, 0.0314, 0.0000, 0.0000, 0.0314, 0.0000,\n",
              "          0.0000, 0.0745, 0.0000, 0.0000, 0.0039, 0.0824, 0.0000, 0.0157,\n",
              "          0.0000, 0.0000, 0.0000, 0.0000],\n",
              "         [0.0000, 0.0000, 0.0000, 0.0000, 0.0000, 0.0000, 0.0000, 0.0000,\n",
              "          0.0000, 0.0000, 0.0039, 0.0000, 0.0000, 0.0039, 0.0000, 0.0000,\n",
              "          0.0000, 0.0000, 0.0000, 0.0431, 0.0000, 0.0000, 0.0392, 0.0118,\n",
              "          0.0000, 0.0000, 0.0000, 0.0000],\n",
              "         [0.0000, 0.0000, 0.0000, 0.0000, 0.0000, 0.0000, 0.0000, 0.0000,\n",
              "          0.0510, 0.0000, 0.0588, 0.0392, 0.1020, 0.1333, 0.0667, 0.3020,\n",
              "          0.7098, 0.6980, 0.1373, 0.0157, 0.0000, 0.0000, 0.0000, 0.0000,\n",
              "          0.0000, 0.0000, 0.0000, 0.0000],\n",
              "         [0.0000, 0.0000, 0.0000, 0.0000, 0.0000, 0.0000, 0.0000, 0.0000,\n",
              "          0.0000, 0.0000, 0.5882, 0.9961, 0.9804, 0.9843, 0.9529, 0.9882,\n",
              "          0.9882, 1.0000, 0.1765, 0.0235, 0.0000, 0.0196, 0.0000, 0.0353,\n",
              "          0.0000, 0.0000, 0.0000, 0.0000],\n",
              "         [0.0000, 0.0000, 0.0000, 0.0000, 0.0000, 0.0000, 0.0000, 0.0000,\n",
              "          0.0275, 0.2824, 0.8039, 1.0000, 0.9333, 0.9529, 1.0000, 0.9961,\n",
              "          0.9843, 0.9725, 0.7882, 0.7765, 0.2235, 0.0000, 0.0745, 0.0000,\n",
              "          0.0000, 0.0000, 0.0000, 0.0000],\n",
              "         [0.0000, 0.0000, 0.0000, 0.0000, 0.0000, 0.0000, 0.0000, 0.0000,\n",
              "          0.0000, 0.8549, 1.0000, 0.9451, 1.0000, 0.9765, 0.9804, 0.9843,\n",
              "          0.9804, 1.0000, 1.0000, 0.9490, 0.8784, 0.1922, 0.0000, 0.0471,\n",
              "          0.0000, 0.0000, 0.0000, 0.0000],\n",
              "         [0.0000, 0.0000, 0.0039, 0.0078, 0.0118, 0.0078, 0.0078, 0.0039,\n",
              "          0.0000, 0.2549, 0.8941, 1.0000, 0.9961, 0.9569, 0.4667, 0.1333,\n",
              "          0.1608, 0.4314, 0.9804, 1.0000, 0.9725, 0.4863, 0.0784, 0.0000,\n",
              "          0.0000, 0.0000, 0.0000, 0.0000],\n",
              "         [0.0039, 0.0039, 0.0000, 0.0000, 0.0000, 0.0000, 0.0000, 0.0000,\n",
              "          0.0471, 0.0000, 0.2431, 0.4039, 0.4431, 0.4588, 0.1333, 0.0000,\n",
              "          0.0000, 0.0000, 0.7843, 0.9569, 1.0000, 1.0000, 0.0000, 0.0471,\n",
              "          0.0000, 0.0000, 0.0000, 0.0000],\n",
              "         [0.0078, 0.0039, 0.0000, 0.0000, 0.0000, 0.0000, 0.0039, 0.0078,\n",
              "          0.0000, 0.0000, 0.0078, 0.0157, 0.0000, 0.0431, 0.0000, 0.0275,\n",
              "          0.0235, 0.0000, 0.2941, 0.9569, 1.0000, 1.0000, 0.0157, 0.0000,\n",
              "          0.0000, 0.0000, 0.0000, 0.0000],\n",
              "         [0.0000, 0.0000, 0.0000, 0.0039, 0.0078, 0.0118, 0.0157, 0.0157,\n",
              "          0.0000, 0.0549, 0.0000, 0.0000, 0.0000, 0.0353, 0.0000, 0.0078,\n",
              "          0.0000, 0.0000, 0.1333, 1.0000, 1.0000, 0.9922, 0.0392, 0.0392,\n",
              "          0.0000, 0.0000, 0.0000, 0.0000],\n",
              "         [0.0000, 0.0000, 0.0039, 0.0078, 0.0118, 0.0078, 0.0000, 0.0000,\n",
              "          0.0118, 0.0078, 0.0000, 0.0510, 0.0431, 0.0000, 0.0000, 0.0000,\n",
              "          0.0235, 0.0471, 0.3882, 1.0000, 0.9961, 0.9725, 0.0588, 0.0471,\n",
              "          0.0000, 0.0000, 0.0000, 0.0000],\n",
              "         [0.0000, 0.0039, 0.0039, 0.0039, 0.0000, 0.0000, 0.0000, 0.0000,\n",
              "          0.0039, 0.0039, 0.0000, 0.0000, 0.0196, 0.0235, 0.0431, 0.0000,\n",
              "          0.0000, 0.0667, 0.7216, 0.9686, 1.0000, 0.9529, 0.0510, 0.0000,\n",
              "          0.0000, 0.0000, 0.0000, 0.0000],\n",
              "         [0.0118, 0.0078, 0.0000, 0.0000, 0.0000, 0.0000, 0.0078, 0.0157,\n",
              "          0.0157, 0.0000, 0.0431, 0.0000, 0.2000, 0.3686, 0.3333, 0.0196,\n",
              "          0.0196, 0.0980, 0.9647, 0.9647, 1.0000, 0.8157, 0.0000, 0.0353,\n",
              "          0.0000, 0.0000, 0.0000, 0.0000],\n",
              "         [0.0157, 0.0039, 0.0000, 0.0000, 0.0039, 0.0275, 0.0588, 0.0745,\n",
              "          0.3882, 0.4039, 0.7137, 0.7412, 0.9294, 0.9922, 0.9882, 0.7490,\n",
              "          0.7451, 0.8902, 0.9529, 0.9882, 0.8235, 0.0706, 0.0275, 0.0000,\n",
              "          0.0000, 0.0000, 0.0000, 0.0000],\n",
              "         [0.0000, 0.0157, 0.0000, 0.0000, 0.1255, 0.4275, 0.7255, 0.9686,\n",
              "          1.0000, 0.9490, 1.0000, 0.9569, 1.0000, 1.0000, 0.9490, 0.9843,\n",
              "          1.0000, 0.9412, 1.0000, 1.0000, 0.8549, 0.4863, 0.0353, 0.0000,\n",
              "          0.0000, 0.0000, 0.0000, 0.0000],\n",
              "         [0.0078, 0.0000, 0.0000, 0.0000, 0.4980, 1.0000, 0.9216, 1.0000,\n",
              "          1.0000, 0.9686, 0.8980, 0.8314, 0.9490, 0.9804, 1.0000, 1.0000,\n",
              "          0.9725, 1.0000, 0.9922, 0.9765, 1.0000, 0.9529, 0.6667, 0.0471,\n",
              "          0.0000, 0.0000, 0.0000, 0.0000],\n",
              "         [0.0000, 0.0431, 0.0000, 0.0353, 0.9922, 1.0000, 1.0000, 0.9137,\n",
              "          0.7922, 0.3333, 0.0000, 0.2078, 0.7686, 0.9333, 1.0000, 0.8902,\n",
              "          0.9333, 0.5569, 0.4275, 0.7569, 1.0000, 0.9412, 1.0000, 0.7059,\n",
              "          0.0000, 0.0000, 0.0000, 0.0000],\n",
              "         [0.0235, 0.0000, 0.0863, 0.0039, 0.9608, 0.9529, 0.9961, 1.0000,\n",
              "          0.8510, 0.9216, 0.8863, 0.8353, 0.9569, 0.9843, 1.0000, 0.9373,\n",
              "          0.3020, 0.0000, 0.0000, 0.0784, 0.7137, 0.9686, 0.9373, 0.9529,\n",
              "          0.0000, 0.0000, 0.0000, 0.0000],\n",
              "         [0.0000, 0.0000, 0.0000, 0.0157, 0.6471, 0.9843, 1.0000, 0.9608,\n",
              "          1.0000, 0.9490, 0.9922, 0.9804, 1.0000, 0.7725, 0.4196, 0.2314,\n",
              "          0.0000, 0.0706, 0.0078, 0.0235, 0.0000, 0.2118, 1.0000, 0.6196,\n",
              "          0.0000, 0.0000, 0.0000, 0.0000],\n",
              "         [0.0000, 0.0941, 0.0000, 0.0000, 0.0235, 0.1333, 0.6549, 0.7608,\n",
              "          0.6902, 0.7176, 0.6431, 0.1725, 0.0078, 0.0392, 0.0235, 0.0235,\n",
              "          0.0000, 0.0000, 0.0196, 0.0000, 0.0039, 0.0000, 0.0549, 0.0078,\n",
              "          0.0000, 0.0000, 0.0000, 0.0000],\n",
              "         [0.0392, 0.0000, 0.0549, 0.0000, 0.0471, 0.0000, 0.0196, 0.0000,\n",
              "          0.0039, 0.0000, 0.0235, 0.0000, 0.0275, 0.0000, 0.0000, 0.0000,\n",
              "          0.0314, 0.0000, 0.0392, 0.0000, 0.0196, 0.0000, 0.0000, 0.0392,\n",
              "          0.0000, 0.0000, 0.0000, 0.0000],\n",
              "         [0.0000, 0.0549, 0.0000, 0.0157, 0.0000, 0.0000, 0.0980, 0.0000,\n",
              "          0.0000, 0.0353, 0.0000, 0.0000, 0.0353, 0.0000, 0.0431, 0.0000,\n",
              "          0.0039, 0.0000, 0.0000, 0.0078, 0.0000, 0.0000, 0.0275, 0.0000,\n",
              "          0.0000, 0.0000, 0.0000, 0.0000],\n",
              "         [0.0000, 0.0000, 0.0000, 0.0000, 0.0000, 0.0000, 0.0000, 0.0000,\n",
              "          0.0000, 0.0000, 0.0000, 0.0000, 0.0000, 0.0000, 0.0000, 0.0000,\n",
              "          0.0000, 0.0000, 0.0000, 0.0000, 0.0000, 0.0000, 0.0000, 0.0000,\n",
              "          0.0000, 0.0000, 0.0000, 0.0000],\n",
              "         [0.0000, 0.0000, 0.0000, 0.0000, 0.0000, 0.0000, 0.0000, 0.0000,\n",
              "          0.0000, 0.0000, 0.0000, 0.0000, 0.0000, 0.0000, 0.0000, 0.0000,\n",
              "          0.0000, 0.0000, 0.0000, 0.0000, 0.0000, 0.0000, 0.0000, 0.0000,\n",
              "          0.0000, 0.0000, 0.0000, 0.0000],\n",
              "         [0.0000, 0.0000, 0.0000, 0.0000, 0.0000, 0.0000, 0.0000, 0.0000,\n",
              "          0.0000, 0.0000, 0.0000, 0.0000, 0.0000, 0.0000, 0.0000, 0.0000,\n",
              "          0.0000, 0.0000, 0.0000, 0.0000, 0.0000, 0.0000, 0.0000, 0.0000,\n",
              "          0.0000, 0.0000, 0.0000, 0.0000],\n",
              "         [0.0000, 0.0000, 0.0000, 0.0000, 0.0000, 0.0000, 0.0000, 0.0000,\n",
              "          0.0000, 0.0000, 0.0000, 0.0000, 0.0000, 0.0000, 0.0000, 0.0000,\n",
              "          0.0000, 0.0000, 0.0000, 0.0000, 0.0000, 0.0000, 0.0000, 0.0000,\n",
              "          0.0000, 0.0000, 0.0000, 0.0000]]])"
            ]
          },
          "metadata": {},
          "execution_count": 111
        }
      ]
    },
    {
      "cell_type": "code",
      "source": [
        "processed_image.shape"
      ],
      "metadata": {
        "colab": {
          "base_uri": "https://localhost:8080/"
        },
        "id": "JLFnUuVmHc4z",
        "outputId": "de84fa37-2ff3-48d3-b993-64e934da4436"
      },
      "execution_count": null,
      "outputs": [
        {
          "output_type": "execute_result",
          "data": {
            "text/plain": [
              "torch.Size([1, 28, 28])"
            ]
          },
          "metadata": {},
          "execution_count": 112
        }
      ]
    },
    {
      "cell_type": "code",
      "source": [
        "plot_image = F.to_pil_image(processed_image)\n",
        "plt.imshow(plot_image, cmap='gray')"
      ],
      "metadata": {
        "colab": {
          "base_uri": "https://localhost:8080/",
          "height": 447
        },
        "id": "8POf4PZeHlFr",
        "outputId": "a8e9f1b9-f6d1-47e8-87ed-d87cd3c38d8a"
      },
      "execution_count": null,
      "outputs": [
        {
          "output_type": "execute_result",
          "data": {
            "text/plain": [
              "<matplotlib.image.AxesImage at 0x7e215de28670>"
            ]
          },
          "metadata": {},
          "execution_count": 113
        },
        {
          "output_type": "display_data",
          "data": {
            "text/plain": [
              "<Figure size 640x480 with 1 Axes>"
            ],
            "image/png": "[encoded data removed]"
          },
          "metadata": {}
        }
      ]
    },
    {
      "cell_type": "markdown",
      "source": [
        "##9.Making the predictions"
      ],
      "metadata": {
        "id": "rsBG2sNpIjzd"
      }
    },
    {
      "cell_type": "code",
      "source": [
        "batched_image = processed_image.unsqueeze(0)\n",
        "batched_image.shape"
      ],
      "metadata": {
        "colab": {
          "base_uri": "https://localhost:8080/"
        },
        "id": "ssmXzouhIlml",
        "outputId": "2babfa2a-8a44-44d6-8f6f-748b3f0aec0c"
      },
      "execution_count": null,
      "outputs": [
        {
          "output_type": "execute_result",
          "data": {
            "text/plain": [
              "torch.Size([1, 1, 28, 28])"
            ]
          },
          "metadata": {},
          "execution_count": 114
        }
      ]
    },
    {
      "cell_type": "code",
      "source": [
        "batched_image_gpu = batched_image.to(device)\n",
        "batched_image_gpu.device"
      ],
      "metadata": {
        "colab": {
          "base_uri": "https://localhost:8080/"
        },
        "id": "_ueqDdk0Is8j",
        "outputId": "99f5b4b5-7710-4de3-d2dc-b32681a6bdf1"
      },
      "execution_count": null,
      "outputs": [
        {
          "output_type": "execute_result",
          "data": {
            "text/plain": [
              "device(type='cuda', index=0)"
            ]
          },
          "metadata": {},
          "execution_count": 115
        }
      ]
    },
    {
      "cell_type": "code",
      "source": [
        "output = model(batched_image_gpu)\n",
        "output"
      ],
      "metadata": {
        "colab": {
          "base_uri": "https://localhost:8080/"
        },
        "id": "AHc4_CymI3jE",
        "outputId": "847a403b-329f-4531-9e0a-ec7f99bab62f"
      },
      "execution_count": null,
      "outputs": [
        {
          "output_type": "execute_result",
          "data": {
            "text/plain": [
              "tensor([[ -7.3034, -12.2440,  11.0608,  -4.5942,  -7.9337,  -1.0004,   1.7774,\n",
              "          -6.3114,  -7.7947, -10.3600, -27.9123, -28.1951, -27.2644, -27.5079,\n",
              "         -27.9746, -27.0490, -27.5965, -27.5800, -27.3617, -28.1182, -27.0689,\n",
              "         -27.4643, -27.3596, -27.6706]], device='cuda:0',\n",
              "       grad_fn=<AddmmBackward0>)"
            ]
          },
          "metadata": {},
          "execution_count": 116
        }
      ]
    },
    {
      "cell_type": "markdown",
      "source": [
        "##10.Understanding the Prediction"
      ],
      "metadata": {
        "id": "Dr0uIpI3I7oV"
      }
    },
    {
      "cell_type": "code",
      "source": [
        "prediction = output.argmax(dim = 1).item()\n",
        "prediction"
      ],
      "metadata": {
        "colab": {
          "base_uri": "https://localhost:8080/"
        },
        "id": "Fh4nSZqrI-YV",
        "outputId": "210ded3e-2ed7-4d1e-88d0-ea5d3dc88873"
      },
      "execution_count": null,
      "outputs": [
        {
          "output_type": "execute_result",
          "data": {
            "text/plain": [
              "2"
            ]
          },
          "metadata": {},
          "execution_count": 117
        }
      ]
    },
    {
      "cell_type": "code",
      "source": [
        "digit = '0123456789'\n",
        "digit[prediction]"
      ],
      "metadata": {
        "colab": {
          "base_uri": "https://localhost:8080/",
          "height": 36
        },
        "id": "LEtl8HVnJFz8",
        "outputId": "d8d1cb3b-0844-4770-b3aa-275da433df5c"
      },
      "execution_count": null,
      "outputs": [
        {
          "output_type": "execute_result",
          "data": {
            "text/plain": [
              "'2'"
            ],
            "application/vnd.google.colaboratory.intrinsic+json": {
              "type": "string"
            }
          },
          "metadata": {},
          "execution_count": 118
        }
      ]
    },
    {
      "cell_type": "code",
      "source": [
        "def predict_digit(image_path):\n",
        "  show_image(image_path)\n",
        "  image = tv_io.read_image(image_path,tv_io.ImageReadMode.GRAY)\n",
        "  image = preprocess_trans(image)\n",
        "  image = image.unsqueeze(0)\n",
        "  image = image.to(device)\n",
        "  output = model(image)\n",
        "  prediction = output.argmax(dim = 1).item()\n",
        "  predicted_digit = digit[prediction]\n",
        "  return predicted_digit"
      ],
      "metadata": {
        "id": "T-f15fERJTLc"
      },
      "execution_count": null,
      "outputs": []
    },
    {
      "cell_type": "code",
      "source": [
        "predict_digit('/content/drive/MyDrive/LAB AI/Jupyter Notebook/img_1.jpg')"
      ],
      "metadata": {
        "colab": {
          "base_uri": "https://localhost:8080/",
          "height": 449
        },
        "id": "mENqjGt5KHFj",
        "outputId": "6729900b-ef81-4e4e-f6a3-1076ce81d3ac"
      },
      "execution_count": null,
      "outputs": [
        {
          "output_type": "execute_result",
          "data": {
            "text/plain": [
              "'2'"
            ],
            "application/vnd.google.colaboratory.intrinsic+json": {
              "type": "string"
            }
          },
          "metadata": {},
          "execution_count": 123
        },
        {
          "output_type": "display_data",
          "data": {
            "text/plain": [
              "<Figure size 640x480 with 1 Axes>"
            ],
            "image/png": "[encoded data removed]"
          },
          "metadata": {}
        }
      ]
    },
    {
      "cell_type": "code",
      "source": [
        "predict_digit('/content/drive/MyDrive/LAB AI/Jupyter Notebook/img_5.jpg')"
      ],
      "metadata": {
        "colab": {
          "base_uri": "https://localhost:8080/",
          "height": 449
        },
        "id": "KLBIV4L0NSjm",
        "outputId": "1bd181b1-0b8e-4402-abbc-f8636e3c2cb1"
      },
      "execution_count": null,
      "outputs": [
        {
          "output_type": "execute_result",
          "data": {
            "text/plain": [
              "'3'"
            ],
            "application/vnd.google.colaboratory.intrinsic+json": {
              "type": "string"
            }
          },
          "metadata": {},
          "execution_count": 124
        },
        {
          "output_type": "display_data",
          "data": {
            "text/plain": [
              "<Figure size 640x480 with 1 Axes>"
            ],
            "image/png": "[encoded data removed]"
          },
          "metadata": {}
        }
      ]
    },
    {
      "cell_type": "code",
      "source": [
        "import IPython\n",
        "app = IPython.Application.instance()\n",
        "app.kernel.do_shutdown(True)\n"
      ],
      "metadata": {
        "colab": {
          "base_uri": "https://localhost:8080/"
        },
        "id": "IGpX0sPRODDb",
        "outputId": "e2265363-4745-4c1c-c227-2723f6552ec4"
      },
      "execution_count": null,
      "outputs": [
        {
          "output_type": "execute_result",
          "data": {
            "text/plain": [
              "{'status': 'ok', 'restart': True}"
            ]
          },
          "metadata": {},
          "execution_count": 125
        }
      ]
    }
  ]
}